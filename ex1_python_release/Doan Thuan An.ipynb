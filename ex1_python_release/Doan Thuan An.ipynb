{
 "cells": [
  {
   "cell_type": "markdown",
   "metadata": {},
   "source": [
    "# Homework 1: NumPy - Matplotlib - Pandas\n",
    "\n",
    "## Table of Contents\n",
    "1. [Tổng quan](#overview)  \n",
    "2. [Mục tiêu](#goal)  \n",
    "3. [Hướng dẫn làm và nộp bài](#guide)  \n",
    "4. [Điểm số](#score)  \n",
    "5. [Bài tập](#assignments)\n",
    "\n",
    "\n",
    "<a id=\"overview\"></a>\n",
    "## Tổng quan\n",
    "Trong phần bài tập này, chúng ta sẽ làm quen với các thư viện tính toán được sử dụng rất phổ biến trong lĩnh vực Data Science/Machine Learning: **thư viện NumPy, Matplotlib, Pandas**.\n",
    "\n",
    "<a id=\"goal\"></a>\n",
    "## Mục tiêu học tập\n",
    "\n",
    "* Nắm được một số thao tác hay được sử dụng trong thư viện Numpy, Matplotlib, Pandas.\n",
    "* Hiểu cách vận dụng thư viện để xây dựng các hàm số thông qua các bài tập thực tế.\n",
    "\n",
    "<a id=\"guide\"></a>\n",
    "## Hướng dẫn làm và nộp bài\n",
    "1./ Ở mỗi bài tập, các bạn sẽ được yêu cầu điền phần còn thiếu vào trong hàm. Các cell cần điền sẽ có dòng đầu tiên như sau:\n",
    "```python\n",
    "# GRADED FUNCTION: <tên hàm>\n",
    "...\n",
    "```\n",
    "Trong cell đó, các bạn sẽ code phần đáp án của mình giữa 2 phần:\n",
    "```python\n",
    "### START CODE HERE ###\n",
    "<phần bài làm>\n",
    "### END CODE HERE ###\n",
    "```\n",
    "Sau đó, các bạn trả về giá trị đầu ra của hàm số (nếu có) sau phần `return` (ví du: `return output`, bỏ giá trị **None** đi)\n",
    "\n",
    "2./ Để kiểm tra lỗi nhanh cho hàm bạn vừa viết, thực hiện chạy phần `Sanity check` ở sau mỗi TO_DO.  \n",
    "\n",
    "3./ Tiếp theo, sau khi đã vượt qua Sanity check, bạn chạy file `check_score.py` để kiểm tra điểm mà bạn hiện tại cho phần bài làm của bạn. Nếu không thay đổi tên và vị trí mặc định của file bài tập, bạn có thể gọi dòng lệnh sau từ terminal để nộp bài:\n",
    "```\n",
    "python check_score.py\n",
    "```\n",
    "Nếu bạn đã thay đổi vị trí hoặc tên bài tập. Bạn trỏ đến vị trí của bài tập bằng dòng lệnh sau:\n",
    "```\n",
    "python check_score.py -filepath <PATH_ĐẾN_FILE_.IPYNB_BÀI_LÀM_CỦA_BẠN>\n",
    "```\n",
    "Sau khi chạy dòng lệnh trên, vui lòng điền `username`, bạn sẽ nhận được kết quả trả về cho bài làm của bạn.  \n",
    "\n",
    "**Lưu ý:** Bạn có thể kiểm tra điểm bằng cách chạy file `check_score.py` bao nhiêu lần bạn muốn. Một số TODO sẽ không được đánh giá trong phần này.\n",
    "\n",
    "<a id=\"score\"></a>\n",
    "## Điểm số\n",
    "Điểm tối đa cho bài tập này là **130 điểm**. Mỗi bài tập nhỏ TO_DO_x nếu làm đúng hoàn toàn sẽ được **10 điểm**. Điểm số này sẽ được qui về **thang điểm 10** trong phần tổng kết.\n",
    "\n",
    "<a id=\"assignments\"></a>\n",
    "## Bài tập"
   ]
  },
  {
   "cell_type": "markdown",
   "metadata": {},
   "source": [
    "#### Check score"
   ]
  },
  {
   "cell_type": "code",
   "execution_count": 101,
   "metadata": {},
   "outputs": [
    {
     "name": "stdout",
     "output_type": "stream",
     "text": [
      "'\"python check_score.py -username Doan Thuan An\"' is not recognized as an internal or external command,\n",
      "operable program or batch file.\n",
      "\n"
     ]
    }
   ],
   "source": [
    "import subprocess\n",
    "\n",
    "### START ENTER USERNAME HERE ###\n",
    "\n",
    "username = \"Doan Thuan An\"\n",
    "\n",
    "### END ENTER USERNAME HERE ###\n",
    "\n",
    "out = subprocess.Popen([f'python check_score.py -username {username}'], \n",
    "                       stdout=subprocess.PIPE, stderr=subprocess.STDOUT, shell=True).communicate()[0].decode(\"utf-8\")\n",
    "print(out)"
   ]
  },
  {
   "cell_type": "markdown",
   "metadata": {},
   "source": [
    "#### TO DO 1"
   ]
  },
  {
   "cell_type": "code",
   "execution_count": 4,
   "metadata": {},
   "outputs": [],
   "source": [
    "# GRADED FUNCTION\n",
    "import numpy as np\n",
    "'''\n",
    "TO_DO_1: Khởi tạo ma trận số thực kích thước M x N gồm toàn số K.\n",
    "Input:\n",
    "   - M: kiểu số nguyên, là số hàng của ma trận\n",
    "   - N: kiểu số nguyên, là số cột của ma trận\n",
    "   - K: kiểu số nguyên là giá trị của một phần tử cần điền vào ma trận\n",
    "Output:\n",
    "   - Kiểu numpy array, chứa ma trận kích thước M x N gồm toàn các giá trị thực K\n",
    "'''\n",
    "def matrix_of_K(M, N, K):\n",
    "   ### START CODE HERE ###\n",
    "   a = np.full((M,N), K)\n",
    "   ### END CODE HERE ###\n",
    "   return a"
   ]
  },
  {
   "cell_type": "markdown",
   "metadata": {},
   "source": [
    "*Sanity check cho TO_DO_1*"
   ]
  },
  {
   "cell_type": "code",
   "execution_count": 14,
   "metadata": {},
   "outputs": [],
   "source": [
    "assert (matrix_of_K(2,3,6) == np.array([[6,6,6],[6,6,6]])).all(), \"Chưa đúng!\""
   ]
  },
  {
   "cell_type": "markdown",
   "metadata": {},
   "source": [
    "#### TO DO 2"
   ]
  },
  {
   "cell_type": "code",
   "execution_count": 18,
   "metadata": {},
   "outputs": [],
   "source": [
    "# GRADED FUNCTION\n",
    "'''\n",
    "TO_DO_2: Khởi tạo ma trận số thực kích thước M x N gồm các số từ 1 đến M.N \n",
    "được sắp tăng từ trái qua phải, từ trên xuống dưới. Ví dụ:\n",
    "Input: \n",
    "   - M: kiểu số nguyên, là số hàng của ma trận\n",
    "   - N: kiểu số nguyên, là số cột của ma trận\n",
    "Output:\n",
    "   - Kiểu numpy array, chứa ma trận kích thước M x N với các phần tử là số thực lần lượt là\n",
    "   1, 2, 3, ..., MN\n",
    "\n",
    "Ví dụ: M = 2, N = 3, output là\n",
    "    array([[1, 2, 3],\n",
    "           [4, 5, 6]])\n",
    "'''\n",
    "\n",
    "def matrix_of_MN(M, N):\n",
    "    ### START CODE HERE ###\n",
    "    temp = list(range(1, M*N))\n",
    "    for i in range (0, len(temp), M):\n",
    "       yield temp[i, i+M]\n",
    "    ### END CODE HERE ###\n",
    "    return temp"
   ]
  },
  {
   "cell_type": "markdown",
   "metadata": {},
   "source": [
    "*Sanity check cho TO_DO_2*"
   ]
  },
  {
   "cell_type": "code",
   "execution_count": 19,
   "metadata": {},
   "outputs": [
    {
     "name": "stdout",
     "output_type": "stream",
     "text": [
      "<generator object matrix_of_MN at 0x000001B8B2B37B50>\n"
     ]
    }
   ],
   "source": [
    "print(matrix_of_MN(2,3))\n",
    "#assert(matrix_of_MN(2,3) == np.array([[1,2,3],[4,5,6]])).all(), \"Chưa đúng!\""
   ]
  },
  {
   "cell_type": "markdown",
   "metadata": {},
   "source": [
    "#### TO DO 3"
   ]
  },
  {
   "cell_type": "code",
   "execution_count": 2,
   "metadata": {},
   "outputs": [],
   "source": [
    "# GRADED FUNCTION\n",
    "'''\n",
    "TO_DO_3: Tính số tiền còn lại trong tài khoản ngân hàng với đầu vào là\n",
    "danh sách các lần gửi tiền và rút tiền\n",
    "Input:\n",
    "   - deposits: kiểu numpy array, chứa danh sách các số tiền gửi vào tài khoản\n",
    "   - withdraws: kiểu numpy array, danh sách các số tiền rút khỏi tài khoản\n",
    "Output:\n",
    "   - Kiểu số thực, số tiền còn lại trong tài khoản\n",
    "Ví dụ: deposits = [100.0, 400.0, 200.0], withdraws = [50.0, 100.0], số tiền còn lại sẽ là: 550\n",
    "\n",
    "'''\n",
    "def balance(deposits, withdraws):\n",
    "    ### START CODE HERE ###\n",
    "    return np.sum(deposits)-np.sum(withdraws)\n",
    "    ### END CODE HERE ###\n"
   ]
  },
  {
   "cell_type": "markdown",
   "metadata": {},
   "source": [
    "*Sanity check cho TO_DO_3*"
   ]
  },
  {
   "cell_type": "code",
   "execution_count": 3,
   "metadata": {},
   "outputs": [],
   "source": [
    "assert balance(np.array([100.0, 400.0, 200.0]),np.array([50.0, 100.0])) == 550, \"Chưa đúng!\""
   ]
  },
  {
   "cell_type": "markdown",
   "metadata": {},
   "source": [
    "#### TO DO 4"
   ]
  },
  {
   "cell_type": "code",
   "execution_count": 8,
   "metadata": {},
   "outputs": [],
   "source": [
    "# GRADED FUNCTION\n",
    "'''\n",
    "TO_DO_4: Tính số tiền còn lại trong tài khoản ngân hàng với đầu vào là\n",
    "danh sách các số tiền giao dịch, tương ứng là sẽ có danh sách\n",
    "các loại giao dịch gửi tiền (ký hiệu bằng chuỗi 'D'), rút tiền \n",
    "(ký hiệu bằng chuỗi 'W')\n",
    "Input:\n",
    "   - moneys: kiểu numpy array, chứa danh sách các số tiền giao dịch\n",
    "   (gửi và rút khỏi tài khoản)\n",
    "   - types: kiểu numpy array, chứa danh sách các loại giao dịch \n",
    "   (gửi ký hiệu là 'D', rút ký hiệu là 'W')\n",
    "Output:\n",
    "   - Kiểu số thực, số tiền còn lại trong tài khoản\n",
    "Ví dụ: moneys = [400.0, 100.0, 200.0], types = ['D', 'W', 'D'], số tiền còn lại sẽ là: 500\n",
    "\n",
    "'''\n",
    "def balance2(moneys, types):\n",
    "    ### START CODE HERE ###\n",
    "    remain = 0\n",
    "    for i in range (len(types)):\n",
    "      if types[i] == 'D':\n",
    "         remain += moneys[i]\n",
    "      else: remain -= moneys[i]\n",
    "    ### END CODE HERE ###\n",
    "    return remain"
   ]
  },
  {
   "cell_type": "markdown",
   "metadata": {},
   "source": [
    "*Sanity check cho TO_DO_4*"
   ]
  },
  {
   "cell_type": "code",
   "execution_count": 9,
   "metadata": {},
   "outputs": [],
   "source": [
    "assert balance2(np.array([400.0, 100.0, 200.0]),np.array(['D', 'W', 'D'])) == 500, \"Chưa đúng!\""
   ]
  },
  {
   "cell_type": "markdown",
   "metadata": {},
   "source": [
    "#### TO DO 5"
   ]
  },
  {
   "cell_type": "code",
   "execution_count": 10,
   "metadata": {},
   "outputs": [],
   "source": [
    "# GRADED FUNCTION\n",
    "'''\n",
    "TO_DO_5: Đếm số lượng sinh viên có điểm số không dưới K điểm cho trước của một lớp học.\n",
    "Input: \n",
    "   - marks: kiểu numpy array, kích thước 1 x n. Đây là điểm toán cả n sinh viên trong lớp.\n",
    "   - K: kiểu số thực, điểm chuẩn. \n",
    "Output: \n",
    "   - Kiểu số nguyên, số lượng sinh viên trong lớp đạt từ K điểm trở lên\n",
    "'''\n",
    "\n",
    "def pass_exam(marks, K):\n",
    "    good_marks = marks[np.where(marks >= K)]\n",
    "    ### START CODE HERE ###\n",
    "    \n",
    "    ### END CODE HERE ###\n",
    "    return len(good_marks)"
   ]
  },
  {
   "cell_type": "markdown",
   "metadata": {},
   "source": [
    "*Sanity check cho TO_DO_5*"
   ]
  },
  {
   "cell_type": "code",
   "execution_count": 11,
   "metadata": {},
   "outputs": [],
   "source": [
    "assert pass_exam(np.array([[2,3,4,6,8]]), 4) == 3, \"Chưa đúng!\""
   ]
  },
  {
   "cell_type": "markdown",
   "metadata": {},
   "source": [
    "#### TO DO 6"
   ]
  },
  {
   "cell_type": "code",
   "execution_count": 14,
   "metadata": {},
   "outputs": [],
   "source": [
    "# GRADED FUNCTION\n",
    "'''\n",
    "TO_DO_6: Tính điểm trung bình của một bạn sinh viên biết trước danh sách các điểm số và số tín chỉ\n",
    "của từng môn học.\n",
    "Input: \n",
    "   - marks: kiểu numpy array, kích thước 1 x n. Đây là điểm các môn của một sinh viên.\n",
    "   - credits: kiểu numpy array, kích thước 1 x n. Đây là số tín chỉ lần lượt của các môn. \n",
    "Output: \n",
    "   - Kiểu số thực, điểm trung bình của các môn học của sinh viên\n",
    "\n",
    "Ví dụ: Điểm trung bình ba môn Toán, Văn, Anh của một sinh viên lần lượt là:\n",
    "   marks = np.array([8.0, 9.0, 10.0])\n",
    "   credits = np.array([2,2,1])\n",
    "   output là: 8.8\n",
    "'''\n",
    "def gpa(marks, credits):\n",
    "    ### START CODE HERE ###\n",
    "    \n",
    "    avg = np.sum(marks*credits)/np.sum(credits)\n",
    "    ### END CODE HERE ###\n",
    "    return avg"
   ]
  },
  {
   "cell_type": "markdown",
   "metadata": {},
   "source": [
    "*Sanity check cho TO_DO_6*"
   ]
  },
  {
   "cell_type": "code",
   "execution_count": 15,
   "metadata": {},
   "outputs": [],
   "source": [
    "assert gpa(np.array([8.0, 9.0, 10.0]), np.array([2,2,1])) == 8.8, \"Chưa đúng!\""
   ]
  },
  {
   "cell_type": "markdown",
   "metadata": {},
   "source": [
    "#### TO DO 7"
   ]
  },
  {
   "cell_type": "code",
   "execution_count": 42,
   "metadata": {},
   "outputs": [],
   "source": [
    "# GRADED FUNCTION\n",
    "'''\n",
    "TO_DO_7: Tính điểm trung bình cao nhất của một lớp học biết trước danh sách các điểm số và số tín chỉ\n",
    "cho từng môn học của một lớp.\n",
    "Input: \n",
    "   - marks: kiểu numpy array, kích thước m x n. Đây là điểm các môn của một lớp học.\n",
    "   Trong đó, m là số sinh viên, n là số môn học\n",
    "   - credits: kiểu numpy array, kích thước 1 x n. Đây là số tín chỉ lần lượt của các môn. \n",
    "Output: \n",
    "   - Kiểu số thực, điểm trung bình của sinh viên cao nhất.\n",
    "\n",
    "Ví dụ: Điểm trung bình ba môn Toán, Văn, Anh của một lớp học có 5 bạn lần lượt là:\n",
    "   marks = np.array(\n",
    "       [[8.0, 9.0, 10.0],\n",
    "       [7.0, 9.0, 8.0],\n",
    "       [8.0, 8.0, 8.0],\n",
    "       [10.0, 9.0, 7.0],\n",
    "       [9.0, 9.0, 10.0]])\n",
    "   credits = np.array([2,2,1])\n",
    "   output là: 9.2\n",
    "'''\n",
    "def max_gpa(marks, credits):\n",
    "    ### START CODE HERE ###\n",
    "    gpa =[]\n",
    "    for i in marks:\n",
    "      gpa.append(np.sum(i*credits)/np.sum(credits))\n",
    "    ### END CODE HERE ###\n",
    "    return np.max(gpa)\n"
   ]
  },
  {
   "cell_type": "markdown",
   "metadata": {},
   "source": [
    "*Sanity check cho TO_DO_7*"
   ]
  },
  {
   "cell_type": "code",
   "execution_count": 44,
   "metadata": {},
   "outputs": [],
   "source": [
    "marks = np.array(\n",
    "       [[8.0, 9.0, 10.0],\n",
    "       [7.0, 9.0, 8.0],\n",
    "       [8.0, 8.0, 8.0],\n",
    "       [10.0, 9.0, 7.0],\n",
    "       [9.0, 9.0, 10.0]])\n",
    "credits = np.array([2,2,1])\n",
    "assert max_gpa(marks, credits) == 9.2, \"Chưa đúng!\""
   ]
  },
  {
   "cell_type": "markdown",
   "metadata": {},
   "source": [
    "#### TO DO 8"
   ]
  },
  {
   "cell_type": "code",
   "execution_count": 6,
   "metadata": {},
   "outputs": [],
   "source": [
    "# GRADED FUNCTION\n",
    "'''\n",
    "TO_DO_8: Tính điểm trung bình tích luỹ của từng sinh viên trong lớp học biết trước \n",
    "danh sách các điểm số và số tín chỉ cho từng môn học của một lớp. Lưu ý rằng,\n",
    "khi tính điểm trung bình ta sẽ loại bỏ các điểm của các tín chỉ dưới 5 (rớt).\n",
    "Input: \n",
    "   - marks: kiểu numpy array, kích thước m x n. Đây là điểm các môn của một lớp học.\n",
    "   Trong đó, m là số sinh viên, n là số môn học\n",
    "   - credits: kiểu numpy array, kích thước 1 x n. Đây là số tín chỉ lần lượt của các môn. \n",
    "Output: \n",
    "   - Kiểu numpy array, kích thước 1 x m, chứa điểm trung bình của các bạn sinh viên trong lớp.\n",
    "\n",
    "Ví dụ: Điểm trung bình ba môn Toán, Văn, Anh của một lớp học có 5 bạn lần lượt là:\n",
    "   marks = np.array(\n",
    "       [[8.0, 9.0, 10.0],\n",
    "       [4.0, 9.0, 8.0],\n",
    "       [8.0, 3.0, 8.0],\n",
    "       [10.0, 9.0, 5.0],\n",
    "       [9.0, 9.0, 4.0]])\n",
    "   credits = np.array([2,2,1])\n",
    "   output là: array([8.8, 8.66666667, 8. , 8.6, 9.])\n",
    "'''\n",
    "def gpa_of_pass(marks, credits):\n",
    "    ### START CODE HERE ###\n",
    "    temp = np.where(marks >= 5, marks, 0)\n",
    "    results = []\n",
    "    for i in marks: \n",
    "      temp2 = np.where(i >= 5, credits, 0)\n",
    "      results.append(np.sum(i*credits)/np.sum(credits))\n",
    "    ### END CODE HERE ### \n",
    "    return results"
   ]
  },
  {
   "cell_type": "markdown",
   "metadata": {},
   "source": [
    "*Sanity check cho TO_DO_8*"
   ]
  },
  {
   "cell_type": "code",
   "execution_count": 7,
   "metadata": {},
   "outputs": [],
   "source": [
    "marks = np.array(\n",
    "       [[8.0, 9.0, 10.0],\n",
    "       [7.0, 9.0, 8.0],\n",
    "       [8.0, 8.0, 8.0],\n",
    "       [10.0, 9.0, 7.0],\n",
    "       [9.0, 9.0, 10.0]])\n",
    "credits = np.array([2,2,1])\n",
    "assert (gpa_of_pass(marks, credits) == np.array([8.8, 8. , 8. , 9. , 9.2])).all(), \"Chưa đúng!\""
   ]
  },
  {
   "cell_type": "markdown",
   "metadata": {},
   "source": [
    "#### TO DO 9"
   ]
  },
  {
   "cell_type": "code",
   "execution_count": 77,
   "metadata": {},
   "outputs": [],
   "source": [
    "import pandas as pd\n",
    "# GRADED FUNCTION\n",
    "'''\n",
    "TODO 9\n",
    "Đọc dữ liệu từ 3 file data.csv vào biến df.\n",
    "Loại bỏ các hàng chứa giá trị null.\n",
    "Lưu cột score của 3 hàng đầu tiên vào 3 biến score1, score2, score3.\n",
    "Lưu tên của người thứ 3 vào biến name\n",
    "'''\n",
    "### START CODE HERE ###\n",
    "df = pd.read_csv(r'data.csv')\n",
    "df = df.dropna(axis=0)\n",
    "name = df.iloc[2]['Names']\n",
    "score1 = df.iloc[0]['Scores']\n",
    "score2 = df.iloc[1]['Scores']\n",
    "score3 = df.iloc[2]['Scores']\n",
    "### END CODE HERE ### "
   ]
  },
  {
   "cell_type": "markdown",
   "metadata": {},
   "source": [
    "Sanity check cho TO_DO_9"
   ]
  },
  {
   "cell_type": "code",
   "execution_count": 84,
   "metadata": {},
   "outputs": [],
   "source": [
    "assert score1+score2+score3 == 22, \"Chưa đúng!\"\n",
    "assert name == 'Phương', \"Chưa đúng!\""
   ]
  },
  {
   "cell_type": "markdown",
   "metadata": {},
   "source": [
    "#### TODO 10"
   ]
  },
  {
   "cell_type": "code",
   "execution_count": 85,
   "metadata": {},
   "outputs": [],
   "source": [
    "import numpy as np\n",
    "import pandas as pd\n",
    "\n",
    "# GRADED FUNCTION\n",
    "'''\n",
    "TODO 10\n",
    "Tạo file data1.csv từ 3 cột ID, Names và Scores\n",
    "'''\n",
    "\n",
    "ID = np.array([1, 2, 3, 4, 5, 6, 7, 8, 9, 10])\n",
    "Names = np.array(['avc', 'dws', 'aws', 'sss', 'dws', 'wes', 'srs', 'www', 'scc', 'was'])\n",
    "Scores = np.array([8, 0, 2, 5, 3, 7, 6, 6, 3, 0])\n",
    "\n",
    "### START CODE HERE ###\n",
    "info = {\n",
    "    'ID': ID,\n",
    "    'Names': Names,\n",
    "    'Scores': Scores \n",
    "}\n",
    "df = pd.DataFrame(info)\n",
    "df.to_csv(\"data1.csv\")\n",
    "### END CODE HERE ### "
   ]
  },
  {
   "cell_type": "markdown",
   "metadata": {},
   "source": [
    "Sanity check cho TO_DO_10"
   ]
  },
  {
   "cell_type": "code",
   "execution_count": 76,
   "metadata": {},
   "outputs": [],
   "source": [
    "df = pd.read_csv(\"data1.csv\", index_col=0)\n",
    "assert df.iloc[:, -1].sum() == 40, \"chưa đúng\""
   ]
  },
  {
   "cell_type": "markdown",
   "metadata": {},
   "source": [
    "#### TODO 11"
   ]
  },
  {
   "cell_type": "code",
   "execution_count": 1,
   "metadata": {},
   "outputs": [
    {
     "ename": "NameError",
     "evalue": "name 'np' is not defined",
     "output_type": "error",
     "traceback": [
      "\u001b[1;31m---------------------------------------------------------------------------\u001b[0m",
      "\u001b[1;31mNameError\u001b[0m                                 Traceback (most recent call last)",
      "Cell \u001b[1;32mIn [1], line 10\u001b[0m\n\u001b[0;32m      2\u001b[0m \u001b[38;5;124;03m'''\u001b[39;00m\n\u001b[0;32m      3\u001b[0m \u001b[38;5;124;03mTODO 11\u001b[39;00m\n\u001b[0;32m      4\u001b[0m \u001b[38;5;124;03mThêm vào df cột xếp loại\u001b[39;00m\n\u001b[0;32m      5\u001b[0m \u001b[38;5;124;03m- điểm < 5 loại 1\u001b[39;00m\n\u001b[0;32m      6\u001b[0m \u001b[38;5;124;03m- điểm >= 5 loại 2\u001b[39;00m\n\u001b[0;32m      7\u001b[0m \u001b[38;5;124;03m'''\u001b[39;00m\n\u001b[0;32m      9\u001b[0m \u001b[38;5;66;03m### START CODE HERE ###\u001b[39;00m\n\u001b[1;32m---> 10\u001b[0m Classification \u001b[38;5;241m=\u001b[39m np\u001b[38;5;241m.\u001b[39mwhere(Scores \u001b[38;5;241m<\u001b[39m \u001b[38;5;241m5\u001b[39m, \u001b[38;5;241m1\u001b[39m, \u001b[38;5;241m2\u001b[39m)\n\u001b[0;32m     11\u001b[0m df[\u001b[38;5;124m'\u001b[39m\u001b[38;5;124mClassification\u001b[39m\u001b[38;5;124m'\u001b[39m] \u001b[38;5;241m=\u001b[39m Classification\n",
      "\u001b[1;31mNameError\u001b[0m: name 'np' is not defined"
     ]
    }
   ],
   "source": [
    "# GRADED FUNCTION\n",
    "'''\n",
    "TODO 11\n",
    "Thêm vào df cột xếp loại\n",
    "- điểm < 5 loại 1\n",
    "- điểm >= 5 loại 2\n",
    "'''\n",
    "\n",
    "### START CODE HERE ###\n",
    "Classification = np.where(Scores < 5, 1, 2)\n",
    "df['Classification'] = Classification\n",
    "### END CODE HERE ### "
   ]
  },
  {
   "cell_type": "markdown",
   "metadata": {},
   "source": [
    "Sanity check cho TO_DO_11"
   ]
  },
  {
   "cell_type": "code",
   "execution_count": 95,
   "metadata": {},
   "outputs": [
    {
     "ename": "AssertionError",
     "evalue": "chưa đúng",
     "output_type": "error",
     "traceback": [
      "\u001b[1;31m---------------------------------------------------------------------------\u001b[0m",
      "\u001b[1;31mAssertionError\u001b[0m                            Traceback (most recent call last)",
      "Cell \u001b[1;32mIn [95], line 1\u001b[0m\n\u001b[1;32m----> 1\u001b[0m \u001b[38;5;28;01massert\u001b[39;00m df\u001b[38;5;241m.\u001b[39miloc[:, \u001b[38;5;241m-\u001b[39m\u001b[38;5;241m1\u001b[39m]\u001b[38;5;241m.\u001b[39msum() \u001b[38;5;241m==\u001b[39m \u001b[38;5;241m5\u001b[39m, \u001b[38;5;124m\"\u001b[39m\u001b[38;5;124mchưa đúng\u001b[39m\u001b[38;5;124m\"\u001b[39m\n",
      "\u001b[1;31mAssertionError\u001b[0m: chưa đúng"
     ]
    }
   ],
   "source": [
    "assert df.iloc[:, -1].sum() == 5, \"chưa đúng\""
   ]
  },
  {
   "cell_type": "markdown",
   "metadata": {},
   "source": [
    "#### TODO 12"
   ]
  },
  {
   "cell_type": "code",
   "execution_count": 96,
   "metadata": {},
   "outputs": [],
   "source": [
    "import matplotlib.pyplot as plt\n",
    "import numpy as np"
   ]
  },
  {
   "cell_type": "code",
   "execution_count": 99,
   "metadata": {},
   "outputs": [
    {
     "data": {
      "image/png": "[encoded data removed]",
      "text/plain": [
       "<Figure size 640x480 with 1 Axes>"
      ]
     },
     "metadata": {},
     "output_type": "display_data"
    }
   ],
   "source": [
    "# GRADED FUNCTION\n",
    "'''\n",
    "TODO 12\n",
    "vẽ biểu đồ cho 2 mảng x, y.\n",
    "Tên trục tung là Y và trục hoành là X\n",
    "'''\n",
    "\n",
    "x = np.array([81, 84, 92, 95, 103, 105, 111, 116, 122, 125])\n",
    "y = np.array([230, 245, 265, 271, 283, 290, 304, 310, 327, 330])\n",
    "\n",
    "### START CODE HERE ###\n",
    "plt.plot(x)\n",
    "plt.plot(y)\n",
    "plt.xlabel(\"X\")\n",
    "plt.ylabel(\"Y\")\n",
    "plt.show()\n",
    "### END CODE HERE ### "
   ]
  },
  {
   "cell_type": "markdown",
   "metadata": {},
   "source": [
    "#### TODO 13"
   ]
  },
  {
   "cell_type": "code",
   "execution_count": 32,
   "metadata": {},
   "outputs": [
    {
     "data": {
      "image/png": "[encoded data removed]",
      "text/plain": [
       "<Figure size 640x480 with 1 Axes>"
      ]
     },
     "metadata": {},
     "output_type": "display_data"
    }
   ],
   "source": [
    "# GRADED FUNCTION\n",
    "'''\n",
    "TODO 13\n",
    "Vẽ biểu đồ đường thẳng biểu diễn A, dùng marker = '*'\n",
    "'''\n",
    "A = np.array([1, 5, 1, 2, 4, 19, 2, 4])\n",
    "# Theres no * - marker in Matplotlib?\n",
    "plt.plot(A, linestyle = 'dotted', color = 'b')\n",
    "plt.show()"
   ]
  },
  {
   "cell_type": "markdown",
   "metadata": {},
   "source": [
    "## 🎉 Chúc mừng bạn đã hoàn thành bài tập tuần này!"
   ]
  }
 ],
 "metadata": {
  "kernelspec": {
   "display_name": "Python 3.10.7 64-bit",
   "language": "python",
   "name": "python3"
  },
  "language_info": {
   "codemirror_mode": {
    "name": "ipython",
    "version": 3
   },
   "file_extension": ".py",
   "mimetype": "text/x-python",
   "name": "python",
   "nbconvert_exporter": "python",
   "pygments_lexer": "ipython3",
   "version": "3.10.7"
  },
  "vscode": {
   "interpreter": {
    "hash": "a42ccb73e7d9bfdf27e036f1d2b8b681e55fc0743cc5586bc2474d4a60f4b886"
   }
  }
 },
 "nbformat": 4,
 "nbformat_minor": 4
}
