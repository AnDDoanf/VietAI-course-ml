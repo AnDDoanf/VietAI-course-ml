{
  "cells": [
    {
      "cell_type": "markdown",
      "metadata": {
        "id": "Gyrfgr_p_iDN"
      },
      "source": [
        "# Tutorial: Xây dựng mạng Neural Network với Tensorflow\n",
        "\n",
        "Trong phần tutorial này, chúng ta sẽ sử dụng kiến thức đã học về mạng Neuron để phân loại hình ảnh trong tập dữ liệu [CIFAR10](https://www.cs.toronto.edu/~kriz/cifar.html). CIFAR-10 là một tập dữ liệu hình ảnh được sử dụng phổ biến trong các lĩnh vực nghiên cứu Machine learning có liên quan hình ảnh. Tập dữ liệu này gồm gồm 10 lớp vật thể khác nhau với 6000 hình ảnh cho mỗi lớp. \n",
        "\n",
        "<div style=\"margin-left: auto;margin-right: auto;width: 40%\"><img src=\"./imgs/cifar10.png\" /></div>\n",
        "<div style=\"text-align:center\">Mẫu dữ liệu từ tập CIFAR10</div>\n",
        "\n",
        "Công cụ được sử dụng để xây dựng các mô hình là thư viện **Tensorflow**."
      ]
    },
    {
      "cell_type": "markdown",
      "metadata": {
        "id": "4Tsi_S8g_iDS"
      },
      "source": [
        "#### Giới thiệu  \n",
        "\n",
        "Sử dụng thư viện **Tensorflow**, chúng ta sẽ lần lượt xây dựng một quy trình (pipeline) đơn giản trong bài toán Máy học:  \n",
        "1. Nhập dữ liệu\n",
        "2. Tiền xử lý dữ liệu\n",
        "3. Xây dựng mô hình\n",
        "4. Huấn luyện mô hình\n",
        "5. Đánh giá mô hình\n",
        "\n",
        "Bạn có thể tham khảo lại bài giảng trước đó để nắm vững các nội dung này. Ngoài ra, các bạn có thể đặt câu hỏi cho đội ngũ giảng viên nếu có bất kì thắc mắc."
      ]
    },
    {
      "cell_type": "markdown",
      "metadata": {
        "id": "Xpv6pKug_iDT"
      },
      "source": [
        "#### 0. Nhập thư viện"
      ]
    },
    {
      "cell_type": "code",
      "execution_count": 2,
      "metadata": {
        "id": "Jp3SOeeNV4Z1"
      },
      "outputs": [],
      "source": [
        "import tensorflow as tf\n",
        "import numpy as np\n",
        "from matplotlib import pyplot as plt"
      ]
    },
    {
      "cell_type": "markdown",
      "metadata": {
        "id": "xAFL7wH3_iDV"
      },
      "source": [
        "#### 1. Nhập dữ liệu"
      ]
    },
    {
      "cell_type": "code",
      "execution_count": 3,
      "metadata": {
        "colab": {
          "base_uri": "https://localhost:8080/"
        },
        "id": "m0WTvJ6QaoIa",
        "outputId": "8f5d31b7-7384-4b4e-ed26-fe10b96d75da"
      },
      "outputs": [
        {
          "name": "stdout",
          "output_type": "stream",
          "text": [
            "training data shape: (50000, 32, 32, 3) (50000, 1)\n",
            "testing data shape: (10000, 32, 32, 3) (10000, 1)\n"
          ]
        }
      ],
      "source": [
        "\"\"\" \n",
        "Sử dụng hàm có sẵn trong thư viện tensoflow (tf.keras.datasets.cifar10.load_data()), ta dễ dàng nhập (load) các tập dữ liệu sẵn có.\n",
        "Tham khảo thêm các tập dữ liệu sẵn có ở: https://www.tensorflow.org/api_docs/python/tf/keras/datasets\n",
        "\n",
        "tf.keras.datasets.cifar10.load_data() là API được cài đặt để download dataset cifar 10. \n",
        "API này sẽ trả về cặp dữ liệu train và dữ liệu test.\n",
        "Dữ liệu train và test gồm ảnh và label tương ứng. dữ liệu train có 50000 ảnh, dữ liệu test có 10000 ảnh.\n",
        "Mỗi ảnh được biểu diễn bằng 1 tensor 32 x 32 x 3 (có 32x32 = 1024 pixel, mỗi pixel có 3 kênh màu đỏ, xanh và xanh lá).\n",
        "\n",
        "Vậy ảnh dữ liệu train được biểu diễn bằng tensor 50000x32x32x3 và label train được biểu diễn bằng tensor 50000x1.\n",
        "Anh dữ liệu test được biểu diễn bằng tensor 10000x32x32x3 và label train được biểu diễn bằng tensor 10000x1.\n",
        "\n",
        "\"\"\" \n",
        "(x_train, y_train), (x_test, y_test) = tf.keras.datasets.cifar10.load_data()\n",
        "\n",
        "# Một số thông số của tập dữ liệu\n",
        "print('training data shape:', x_train.shape, y_train.shape)\n",
        "print('testing data shape:', x_test.shape, y_test.shape)"
      ]
    },
    {
      "cell_type": "markdown",
      "metadata": {
        "id": "xBv3k3Cd_iDW"
      },
      "source": [
        "Ví dụ: Một hình ảnh (điểm dữ liệu) được biểu diễn ở dạng pixel"
      ]
    },
    {
      "cell_type": "code",
      "execution_count": 15,
      "metadata": {
        "colab": {
          "base_uri": "https://localhost:8080/"
        },
        "id": "JNsMINFs_iDX",
        "outputId": "190a1a06-cd97-478a-9fec-e7e634d41845"
      },
      "outputs": [],
      "source": [
        "# image_id = 0\n",
        "# print(x_train[image_id, ...])"
      ]
    },
    {
      "cell_type": "markdown",
      "metadata": {
        "id": "6mPyDU-h_iDX"
      },
      "source": [
        "Ví dụ: Hình ảnh được quan sát từ mắt thường một điểm dữ liệu"
      ]
    },
    {
      "cell_type": "code",
      "execution_count": 16,
      "metadata": {
        "colab": {
          "base_uri": "https://localhost:8080/",
          "height": 284
        },
        "id": "AiFYMOdy_iDY",
        "outputId": "d24d9b94-285e-412c-f752-1b4a9dae6c7c"
      },
      "outputs": [],
      "source": [
        "# Một hình ảnh ví dụ từ tập dữ liệu. Thay giá trị `image_id` để xem một tập ảnh khác!\n",
        "# image_id = 0 \n",
        "# plt.imshow(x_train[image_id, ...])"
      ]
    },
    {
      "cell_type": "markdown",
      "metadata": {
        "id": "5-uEYSZp_iDZ"
      },
      "source": [
        "Ví dụ: Nhãn của 10 điểm dữ liệu trong tập x_train"
      ]
    },
    {
      "cell_type": "code",
      "execution_count": 17,
      "metadata": {
        "colab": {
          "base_uri": "https://localhost:8080/"
        },
        "id": "t1Pjq26H_iDZ",
        "outputId": "0a3849a6-0d2f-4cbe-f6de-35dc369b0108"
      },
      "outputs": [],
      "source": [
        "# print(y_train[:10])"
      ]
    },
    {
      "cell_type": "markdown",
      "metadata": {
        "id": "avYMOeiw_iDZ"
      },
      "source": [
        "#### 2. Tiền xử lý dữ liệu"
      ]
    },
    {
      "cell_type": "markdown",
      "metadata": {
        "id": "-SmM7BGx_iDa"
      },
      "source": [
        "Định nghĩa các hàm"
      ]
    },
    {
      "cell_type": "code",
      "execution_count": 4,
      "metadata": {
        "id": "S8_3pGOfXRr9"
      },
      "outputs": [],
      "source": [
        "# Hàm biến đổi nhãn y từ dạng integer thành dạng one hot \n",
        "def list_to_onehot(x, num_class=10):\n",
        "    onehot = np.zeros([x.shape[0], num_class], dtype=np.float64)\n",
        "    onehot[np.arange(x.shape[0]), x[:, 0].astype(int)] = 1.0\n",
        "    return onehot\n",
        "\n",
        "# Hàm chia dữ liệu train/val theo tỉ lệ rate_train\n",
        "def split_train_val(x, y, rate_train=0.7):\n",
        "    indices = np.arange(x.shape[0])\n",
        "    np.random.shuffle(indices)\n",
        "    i = int(x.shape[0]*rate_train)\n",
        "    return (x[indices[:i]], y[indices[:i]]), (x[indices[i:]], y[indices[i:]])\n",
        "\n",
        "# Hàm normalize dữ liệu hình ảnh đơn giản (255 là giá trị tối đa của 1 pixel)\n",
        "def preprocess_samples(x):\n",
        "    return x / 255."
      ]
    },
    {
      "cell_type": "markdown",
      "metadata": {
        "id": "NMWWNdwB_iDa"
      },
      "source": [
        "Thực hiện tiền xử lý dữ liệu"
      ]
    },
    {
      "cell_type": "code",
      "execution_count": 5,
      "metadata": {
        "id": "zDsptofy_iDb"
      },
      "outputs": [],
      "source": [
        "# Chia tập dữ liệu huấn luyện thành tập train/val\n",
        "(x_train, y_train), (x_val, y_val) =  split_train_val(x_train, y_train)\n",
        "\n",
        "\n",
        "# Normalize dữ liệu\n",
        "x_train = preprocess_samples(x_train)\n",
        "x_val = preprocess_samples(x_val)\n",
        "x_test = preprocess_samples(x_test)\n",
        "\n",
        "\n",
        "# Chuyển sang dạng one-hot\n",
        "y_train = list_to_onehot(y_train)\n",
        "y_val = list_to_onehot(y_val)\n",
        "y_test = list_to_onehot(y_test)"
      ]
    },
    {
      "cell_type": "markdown",
      "metadata": {
        "id": "dI0UHRFL_iDb"
      },
      "source": [
        "Ví dụ: Nhãn của 10 điểm dữ liệu sau khi chuyển sang dạng one-hot vector"
      ]
    },
    {
      "cell_type": "code",
      "execution_count": 20,
      "metadata": {
        "colab": {
          "base_uri": "https://localhost:8080/"
        },
        "id": "k5HkRB5N_iDb",
        "outputId": "88aa9c20-35dc-42cf-ff71-9cb52e55e1f6"
      },
      "outputs": [],
      "source": [
        "# for it in y_train[:10]:\n",
        "#     print(it)"
      ]
    },
    {
      "cell_type": "markdown",
      "metadata": {
        "id": "ku7dz4-h_iDb"
      },
      "source": [
        "#### 3. Xây dựng mô hình"
      ]
    },
    {
      "cell_type": "markdown",
      "metadata": {
        "id": "l3r7wXgJ3e5T"
      },
      "source": [
        "Dưới đây là một ví dụ về việc tạo ra một Convolutional Neural Network dựa trên kiến trúc của ResNet50 (một CNN nổi tiếng và được áp dụng rộng rãi), trong đó, giữ nguyên kiến trúc ResNet50 và thay thế  layer cuối với 1000 classes thành layer mới với 10 classes (CIFAR-10).\n",
        "\n",
        "tf.keras.applications.ResNet50(include_top=False, weights=None, input_tensor=None, input_shape=(32, 32, 3), pooling=None, classes=10)) là API sẽ trả về model resnet50.\n",
        "API này có các tham số là:\n",
        "- include_top: True hoặc False: nếu là True API sẽ trả về model bao gồm phần fully-connected layer đã được huấn luyện. Nếu là False sẽ chỉ trả về phần backbone.\n",
        "- weights: Nếu là None sẽ trả về model chưa được huấn luyện. Là 'imagenet' sẽ trả về model đã được train trên tập dữ liệu imagenet. Nếu là đường dẫn sẽ trả về model được load weight theo đường dẫn đó (đường dẫn cần chứa bộ weight đúng cấu trúc resnet50.\n",
        "- input_tensor: là keras tensor được dùng như input của model (các bạn không cần quan tâm tham số này).\n",
        "- input_shape: shape của input. Chỉ dùng khi include_top = False.\n",
        "- pooling: Chỉ dùng khi include_top = False. Là 'None' nếu không muốn thay đổi output của resnet50. Là 'avg' nếu muốn áp dụng global average pooling lên output của resnet50. Là 'max' nếu muốn áp dụng global max pooling lên output của resnet50.\n",
        "- classes: Số classes cần phân loại.\n",
        "\n",
        "Ở đây ta sẽ khai báo mô hình resnet50 không sử dụng weights train trước (weights = None), không bao gồm phần fully_connected layer (include_top = False). Input_shape = (32, 32, 3) là chiều của ảnh input. \n",
        "\n",
        "Output của resnet50 là 1 tensor 4 chiều. Để chuyển nó thành ma trận 2 chiều ta thêm vào mô hình layer tf.keras.layers.Flatten() để làm phẳng tensor 4 chiều thành 2 chiều.\n",
        "\n",
        "Sau đó thêm vào model layer tf.keras.layers.Dense và tf.keras.layers.Softmax() để output ra xác suất tấm ảnh thuộc class nào."
      ]
    },
    {
      "cell_type": "code",
      "execution_count": 21,
      "metadata": {
        "id": "jpCwrf73bM2b"
      },
      "outputs": [],
      "source": [
        "def create_model_resnet50():\n",
        "    # khai báo biến model sequential \n",
        "    model = tf.keras.models.Sequential(name='my-restnet50')        \n",
        "    \n",
        "    # thêm khối kiến trúc ResNet50 vào từ thư viện TF\n",
        "    model.add(tf.keras.applications.ResNet50(                       \n",
        "      include_top=False, weights=None,\n",
        "      input_tensor=None, \n",
        "      input_shape=(32, 32, 3),\n",
        "      pooling=None, classes=10))\n",
        "    \n",
        "    # vector hóa output của mạng ResNet50 (trước đó là tensor đa chiều)\n",
        "    model.add(tf.keras.layers.Flatten())\n",
        "    \n",
        "    # thêm dense layer (fully-connected layer) với 10 classes\n",
        "    model.add(tf.keras.layers.Dense(10, activation='sigmoid'))\n",
        "    \n",
        "    # thêm softmax layer\n",
        "    model.add(tf.keras.layers.Softmax())                            \n",
        "    return model"
      ]
    },
    {
      "cell_type": "markdown",
      "metadata": {
        "id": "MjXXA3PK67uT"
      },
      "source": [
        "Dựa vào hàm **create_model_resnet50** ở trên, bạn có thể tự xây dựng hàm tạo các mô hình khác.  \n",
        "Chi tiết thông tin về các mô hình có trong thư viện tf.keras bạn tham khảo ở [các CNN hiện đại trong thư viện TF](https://www.tensorflow.org/api_docs/python/tf/keras/applications)\n"
      ]
    },
    {
      "cell_type": "markdown",
      "metadata": {
        "id": "h0zs5tXS_iDd"
      },
      "source": [
        "#### 4. Huấn luyện mô hình"
      ]
    },
    {
      "cell_type": "markdown",
      "metadata": {
        "id": "m6g67hbZ8eJg"
      },
      "source": [
        "Ở Lần các bước tiếp theo, ta lượt gọi 1 trong 3 hàm tạo mô hình ở trên để:\n",
        "\n",
        "\n",
        "a.   Tạo ra mô hình CNN tương ứng  \n",
        "b.   Huấn luyện mô hình, train 8 epochs (lưu ý chạy trên GPU)  \n",
        "c.   Tính độ chính xác trên tập test  \n",
        "d.   Lưu kết quả để so sánh  \n",
        "\n"
      ]
    },
    {
      "cell_type": "code",
      "execution_count": 26,
      "metadata": {
        "id": "YMrMdthj8eoE"
      },
      "outputs": [],
      "source": [
        "# a. Gọi hàm để tạo ra một kiến trúc CNN (chẳng hạn kiến trúc ResNet50)\n",
        "model = create_model_resnet50() "
      ]
    },
    {
      "cell_type": "code",
      "execution_count": 28,
      "metadata": {
        "colab": {
          "base_uri": "https://localhost:8080/"
        },
        "id": "IeCTJDpM5kFZ",
        "outputId": "3b73dc7a-1ca2-4f7a-f7b2-4dbdc30f67a1"
      },
      "outputs": [
        {
          "name": "stdout",
          "output_type": "stream",
          "text": [
            "Model: \"my-restnet50\"\n",
            "_________________________________________________________________\n",
            " Layer (type)                Output Shape              Param #   \n",
            "=================================================================\n",
            " resnet50 (Functional)       (None, 1, 1, 2048)        23587712  \n",
            "                                                                 \n",
            " flatten_2 (Flatten)         (None, 2048)              0         \n",
            "                                                                 \n",
            " dense_2 (Dense)             (None, 10)                20490     \n",
            "                                                                 \n",
            " softmax_2 (Softmax)         (None, 10)                0         \n",
            "                                                                 \n",
            "=================================================================\n",
            "Total params: 23,608,202\n",
            "Trainable params: 23,555,082\n",
            "Non-trainable params: 53,120\n",
            "_________________________________________________________________\n"
          ]
        }
      ],
      "source": [
        "# b.1. Xác định hàm mất mát, hàm tối ưu và tiêu chí đánh giá tập Validation\n",
        "model.summary()\n",
        "model.compile(loss=tf.keras.losses.CategoricalCrossentropy(), # hàm mất mát\n",
        "              optimizer=tf.keras.optimizers.Adam(), # hàm tối ưu\n",
        "              metrics=['accuracy']) # tiêu chí đánh giá"
      ]
    },
    {
      "cell_type": "code",
      "execution_count": null,
      "metadata": {
        "colab": {
          "base_uri": "https://localhost:8080/"
        },
        "id": "tfE1N5ojcb7-",
        "outputId": "5184898e-e8e8-4388-ecdc-a89a71fc1101"
      },
      "outputs": [],
      "source": [
        "# b.2. Huấn luyện mô hình và lưu lịch sử.\n",
        "history = model.fit(x_train,\n",
        "          y_train,\n",
        "          batch_size=128,\n",
        "          epochs=8,\n",
        "          verbose=1,\n",
        "          validation_data=(x_val, y_val))"
      ]
    },
    {
      "cell_type": "markdown",
      "metadata": {
        "id": "-XGOHG1n_iDe"
      },
      "source": [
        "#### 5. Đánh giá mô hình"
      ]
    },
    {
      "cell_type": "code",
      "execution_count": null,
      "metadata": {
        "colab": {
          "base_uri": "https://localhost:8080/"
        },
        "id": "lWAbi-N_f3Q1",
        "outputId": "1c7df44b-5999-4b35-8d81-36b5197ffa81"
      },
      "outputs": [
        {
          "name": "stdout",
          "output_type": "stream",
          "text": [
            "313/313 [==============================] - 25s 81ms/step - loss: 1.9954 - accuracy: 0.2589\n"
          ]
        }
      ],
      "source": [
        "# c. Đánh giá một mô hình cụ thể\n",
        "results = model.evaluate(x_test, y_test)"
      ]
    },
    {
      "cell_type": "code",
      "execution_count": null,
      "metadata": {
        "id": "NwGf4NWO_iDf"
      },
      "outputs": [],
      "source": [
        "# d. Lưu kết quả \"accuracy\" của mô hình (nằm ở giá trị results[1] ở bước trước đó)"
      ]
    },
    {
      "cell_type": "markdown",
      "metadata": {
        "id": "I8EDYZXl_iDf"
      },
      "source": [
        "### TODO 1: res_effnet\n",
        "Các bạn hoàn thành việc khởi tạo mô hình `EfficientNet_B7`, huấn luyện và đánh giá."
      ]
    },
    {
      "cell_type": "code",
      "execution_count": 8,
      "metadata": {
        "id": "-s5oUSdt_iDf"
      },
      "outputs": [
        {
          "ename": "AttributeError",
          "evalue": "'NoneType' object has no attribute 'compile'",
          "output_type": "error",
          "traceback": [
            "\u001b[1;31m---------------------------------------------------------------------------\u001b[0m",
            "\u001b[1;31mAttributeError\u001b[0m                            Traceback (most recent call last)",
            "Cell \u001b[1;32mIn [8], line 26\u001b[0m\n\u001b[0;32m     23\u001b[0m     model\u001b[39m.\u001b[39madd(tf\u001b[39m.\u001b[39mkeras\u001b[39m.\u001b[39mlayers\u001b[39m.\u001b[39mSoftmax())    \n\u001b[0;32m     25\u001b[0m model1 \u001b[39m=\u001b[39m create_model_efficiemtNetB7() \n\u001b[1;32m---> 26\u001b[0m model1\u001b[39m.\u001b[39mcompile(loss\u001b[39m=\u001b[39mtf\u001b[39m.\u001b[39mkeras\u001b[39m.\u001b[39mlosses\u001b[39m.\u001b[39mCategoricalCrossentropy(), \u001b[39m# hàm mất mát\u001b[39;00m\n\u001b[0;32m     27\u001b[0m               optimizer\u001b[39m=\u001b[39mtf\u001b[39m.\u001b[39mkeras\u001b[39m.\u001b[39moptimizers\u001b[39m.\u001b[39mAdam(), \u001b[39m# hàm tối ưu\u001b[39;00m\n\u001b[0;32m     28\u001b[0m               metrics\u001b[39m=\u001b[39m[\u001b[39m'\u001b[39m\u001b[39maccuracy\u001b[39m\u001b[39m'\u001b[39m]) \u001b[39m# tiêu chí đánh giá\u001b[39;00m\n\u001b[0;32m     30\u001b[0m history2 \u001b[39m=\u001b[39m model1\u001b[39m.\u001b[39mfit(x_train,\n\u001b[0;32m     31\u001b[0m           y_train,\n\u001b[0;32m     32\u001b[0m           batch_size\u001b[39m=\u001b[39m\u001b[39m128\u001b[39m,\n\u001b[0;32m     33\u001b[0m           epochs\u001b[39m=\u001b[39m\u001b[39m8\u001b[39m,\n\u001b[0;32m     34\u001b[0m           verbose\u001b[39m=\u001b[39m\u001b[39m1\u001b[39m,\n\u001b[0;32m     35\u001b[0m           validation_data\u001b[39m=\u001b[39m(x_val, y_val))\n\u001b[0;32m     38\u001b[0m res_effnet \u001b[39m=\u001b[39m \u001b[39mNone\u001b[39;00m\n",
            "\u001b[1;31mAttributeError\u001b[0m: 'NoneType' object has no attribute 'compile'"
          ]
        }
      ],
      "source": [
        "# GRADED FUNCTION\n",
        "'''\n",
        "TODO 1\n",
        "Thực hiện khởi tạo, huấn luyện và đánh giá mô hình efficientnet b7 (tương tự như các bước ở trên).\n",
        "Lưu accuracy của mô hình sau khi sau huấn luyện trên tập test vào biến res_effnet. \n",
        "'''\n",
        "### START CODE HERE ###\n",
        "def create_model_efficiemtNetB7():\n",
        "    model = tf.keras.models.Sequential(name='efficimentNetB7')        \n",
        "        \n",
        "        # thêm khối kiến trúc ResNet50 vào từ thư viện TF\n",
        "    model.add(tf.keras.applications.EfficientNetB7(                       \n",
        "        include_top=False, weights=None,\n",
        "        input_tensor=None, \n",
        "        input_shape=(32, 32, 3),\n",
        "        pooling=None,\n",
        "        classes=10))\n",
        "\n",
        "    model.add(tf.keras.layers.Flatten())\n",
        "\n",
        "    model.add(tf.keras.layers.Dense(10, activation='sigmoid'))\n",
        "\n",
        "    model.add(tf.keras.layers.Softmax())    \n",
        "\n",
        "model1 = create_model_efficiemtNetB7() \n",
        "model1.compile(loss=tf.keras.losses.CategoricalCrossentropy(), # hàm mất mát\n",
        "              optimizer=tf.keras.optimizers.Adam(), # hàm tối ưu\n",
        "              metrics=['accuracy']) # tiêu chí đánh giá\n",
        "\n",
        "history2 = model1.fit(x_train,\n",
        "          y_train,\n",
        "          batch_size=128,\n",
        "          epochs=8,\n",
        "          verbose=1,\n",
        "          validation_data=(x_val, y_val))\n",
        "\n",
        "\n",
        "res_effnet = None # điền vào đây\n",
        "### END CODE HERE ###"
      ]
    },
    {
      "cell_type": "markdown",
      "metadata": {
        "id": "iqEcaKl4CkGq"
      },
      "source": [
        "### TODO 2: res_mobnet\n",
        "Các bạn hoàn thành việc khởi tạo mô hình `MobileNet_V2`, huấn luyện và đánh giá.\n"
      ]
    },
    {
      "cell_type": "code",
      "execution_count": null,
      "metadata": {
        "id": "MiaOEIIn_iDf"
      },
      "outputs": [],
      "source": [
        "# GRADED FUNCTION\n",
        "'''\n",
        "TODO 4\n",
        "Thực hiện khởi tạo, huấn luyện và đánh giá mô hình mobilenet v2 (tương tự như các bước ở trên).\n",
        "Lưu accuracy của mô hình sau khi sau huấn luyện trên tập test vào biến res_mobnet. \n",
        "'''\n",
        "### START CODE HERE ###\n",
        "res_mobnet = None # điền vào đây\n",
        "### END CODE HERE ###"
      ]
    },
    {
      "cell_type": "markdown",
      "metadata": {
        "id": "O6bRe0GW9jvV"
      },
      "source": [
        "Vẽ biểu đồ so sánh độ chính xác của 3 mô hình."
      ]
    },
    {
      "cell_type": "code",
      "execution_count": null,
      "metadata": {
        "id": "aP-uUtWJ9kCW"
      },
      "outputs": [],
      "source": [
        "model_names = ['ResNet50', 'EfficientNetB7', 'MobileNetV2']\n",
        "'''\n",
        "Cập nhật độ chính xác trên test set vào accuracies, tương ứng thứ tự trong model_names\n",
        "'''\n",
        "accuracies = [0, 0, 0] # thay thế bằng độ chính xác của [res_resnet, res_effnet, res_mobnet]\n",
        "plt.bar(np.arange(len(model_names)), accuracies, align='center', width=0.5, color='green')\n",
        "plt.xticks(np.arange(len(model_names)), model_names, rotation=45)\n",
        "plt.title('Accuracy in test set after 1 epoch')"
      ]
    },
    {
      "cell_type": "markdown",
      "metadata": {
        "id": "OuaRDuv3_iDg"
      },
      "source": [
        "## 🎉 Chúc mừng bạn đã hoàn thành bài tutorial tuần này!"
      ]
    }
  ],
  "metadata": {
    "accelerator": "GPU",
    "colab": {
      "collapsed_sections": [],
      "name": "w6_tut_nn_cnn.ipynb",
      "provenance": []
    },
    "kernelspec": {
      "display_name": "Python 3.10.7 64-bit",
      "language": "python",
      "name": "python3"
    },
    "language_info": {
      "codemirror_mode": {
        "name": "ipython",
        "version": 3
      },
      "file_extension": ".py",
      "mimetype": "text/x-python",
      "name": "python",
      "nbconvert_exporter": "python",
      "pygments_lexer": "ipython3",
      "version": "3.10.7"
    },
    "vscode": {
      "interpreter": {
        "hash": "a42ccb73e7d9bfdf27e036f1d2b8b681e55fc0743cc5586bc2474d4a60f4b886"
      }
    }
  },
  "nbformat": 4,
  "nbformat_minor": 0
}
