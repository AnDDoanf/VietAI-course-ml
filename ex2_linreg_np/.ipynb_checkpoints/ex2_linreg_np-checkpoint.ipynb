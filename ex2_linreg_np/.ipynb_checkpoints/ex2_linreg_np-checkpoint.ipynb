{
 "cells": [
  {
   "cell_type": "markdown",
   "metadata": {},
   "source": [
    "# Homework 2: Mô Hình Linear Regression với Numpy\n",
    "### Tổng quan\n",
    "\n",
    "Chào mừng các bạn đã đến với bài tutorial Linear Regression của khoá học Foundation of Machine Learning.  \n",
    "Lần này chúng ta sẽ sử dụng thư viện **Numpy** để xây dựng mô hình **Linear Regression (Hồi Quy Tuyến Tính)** để giải quyết bài toán **Dự đoán giá nhà**.\n",
    "\n",
    "<div style=\"width: 70%;margin-left: auto;margin-right: auto;\" ><img src=\"./imgs/linear_regression.png\" /></div>\n",
    "<div style=\"text-align:center\"><b>Minh hoạ cho thuật toán Linear Regression</b></div>\n",
    "\n",
    " \n",
    "### Mục tiêu học tập\n",
    "\n",
    "* Hiểu thêm về cách hoạt động của thư viện Numpy trong thực tế. \n",
    "* Có thể viết các thuật toán đơn giản với `Numpy` để giải quyết **bài toán Hồi quy**."
   ]
  },
  {
   "cell_type": "markdown",
   "metadata": {},
   "source": [
    "## Hướng dẫn làm và nộp bài\n",
    "1./ Ở mỗi bài tập, các bạn sẽ được yêu cầu điền phần còn thiếu vào trong hàm. Các cell cần điền sẽ có dòng đầu tiên như sau:\n",
    "```python\n",
    "# GRADED FUNCTION: <tên hàm>\n",
    "...\n",
    "```\n",
    "Trong cell đó, các bạn sẽ code phần đáp án của mình giữa 2 phần:\n",
    "```python\n",
    "### START CODE HERE ###\n",
    "<phần bài làm>\n",
    "### END CODE HERE ###\n",
    "```\n",
    "Sau đó, các bạn trả về giá trị đầu ra của hàm số (nếu có) sau phần `return` (ví du: `return output`, bỏ giá trị **None** đi)\n",
    "\n",
    "2./ Để kiểm tra lỗi nhanh cho hàm bạn vừa viết, thực hiện chạy phần `Sanity check` ở sau mỗi TO_DO.  \n",
    "\n",
    "3./ Tiếp theo, sau khi đã vượt qua Sanity check, bạn chạy file `check_score.py` để kiểm tra điểm mà bạn hiện tại cho phần bài làm của bạn. Nếu không thay đổi tên và vị trí mặc định của file bài tập, bạn có thể gọi dòng lệnh sau từ terminal để nộp bài:\n",
    "```\n",
    "python check_score.py\n",
    "```\n",
    "Nếu bạn đã thay đổi vị trí hoặc tên bài tập. Bạn trỏ đến vị trí của bài tập bằng dòng lệnh sau:\n",
    "```\n",
    "python check_score.py -filepath <PATH_ĐẾN_FILE_.IPYNB_BÀI_LÀM_CỦA_BẠN>\n",
    "```\n",
    "Sau khi chạy dòng lệnh trên, vui lòng điền `username`, bạn sẽ nhận được kết quả trả về cho bài làm của bạn.  \n",
    "\n",
    "**Lưu ý:** Bạn có thể kiểm tra điểm bằng cách chạy file `check_score.py` bao nhiêu lần bạn muốn."
   ]
  },
  {
   "cell_type": "markdown",
   "metadata": {},
   "source": [
    "## Điểm số\n",
    "Điểm tối đa cho bài tập này là **50 điểm**. Mỗi bài tập nhỏ TO_DO_x nếu làm đúng hoàn toàn sẽ được **10 điểm**."
   ]
  },
  {
   "cell_type": "markdown",
   "metadata": {},
   "source": [
    "## Giới thiệu Bài Toán \n",
    "\n",
    "Bài toán lần này, chúng ta sẽ cùng nhau xây dụng một mô hình **Hồi quy tuyến tính** để **dự đoán giá nhà** tại một thành phố Boston (ở Mỹ), với kích thước mẫu với 506 giá trị với 13 thuộc tính như sau:\n",
    "\n",
    "```\n",
    "- CRIM (per capita crime rate by town) : tỷ lệ tội phạm bình quân đầu người theo thị trấn\n",
    "- ZN (proportion of residential land zoned for lots over 25,000 sq.ft)\n",
    ": tỷ lệ đất thổ cư được quy hoạch cho các lô trên 25.000 sq.ft\n",
    "- INDUS (proportion of non-retail business acres per town) : tỷ lệ mẫu đất kinh doanh không bán lẻ trên mỗi thị trấn\n",
    "- CHAS (Charles River dummy variable (= 1 if tract bounds river; 0 otherwise)): =1 nếu có dải đất bao sông,ngược lại = 0\n",
    "- NOX (nitric oxides concentration (parts per 10 million)): nồng độ oxit nitric (phần trên 10 triệu)\n",
    "- RM (average number of rooms per dwelling): số phòng trung bình mỗi người ở\n",
    "- AGE (proportion of owner-occupied units built prior to 1940): tỷ lệ các đơn vị chủ sở hữu được xây dựng trước năm 1940\n",
    "- DIS (weighted distances to five Boston employment centres): khoảng cách trọng số đến năm trung tâm việc làm Boston\n",
    "- RAD (index of accessibility to radial highways): chỉ số khả năng tiếp cận đường cao tốc \n",
    "- TAX (full-value property-tax rate per $10,000): thuế tài sản đầy đủ / $ 10 000\n",
    "- PTRATIO (pupil-teacher ratio by town): tỉ lệ học sinh - giáo viên theo thị trấn\n",
    "- B 1000(Bk - 0.63)ˆ2 where Bk is the proportion of blacks by town\n",
    "- LSTAT (% lower status of the population): tình trạng dân số thấp hơn\n",
    "- MEDV (Median value of owner-occupied homes in $1000's): Giá trị trung bình của các ngôi nhà chủ sở hữu trong $ 1000\n",
    "```\n",
    "\n",
    "Với thông tin này, ta sẽ cùng nhau tiến hành xây dựng một hàm giả thuyết theo mô hình hồi quy tuyến tính dựa trên `numpy` để đưa ra giá nhà dựa trên ít nhất là 2 thuộc tính.\n"
   ]
  },
  {
   "cell_type": "markdown",
   "metadata": {
    "colab_type": "text",
    "id": "kBFbN5imZFEi"
   },
   "source": [
    "### Tìm nghiệm xấp xỉ bằng `Numpy`"
   ]
  },
  {
   "cell_type": "markdown",
   "metadata": {
    "colab_type": "text",
    "id": "GIMQ5b3gZFEj"
   },
   "source": [
    "#### Nhập thư viện"
   ]
  },
  {
   "cell_type": "code",
   "execution_count": null,
   "metadata": {
    "colab": {},
    "colab_type": "code",
    "id": "Xqfxb77cZFEl"
   },
   "outputs": [],
   "source": [
    "# IMPORT \n",
    "import numpy as np\n",
    "import matplotlib.pyplot as plt\n",
    "# %matplotlib inline"
   ]
  },
  {
   "cell_type": "markdown",
   "metadata": {
    "colab_type": "text",
    "id": "EFMOazQpZFEr"
   },
   "source": [
    "#### Đọc dữ liệu"
   ]
  },
  {
   "cell_type": "code",
   "execution_count": null,
   "metadata": {
    "colab": {
     "base_uri": "https://localhost:8080/",
     "height": 333
    },
    "colab_type": "code",
    "executionInfo": {
     "elapsed": 903,
     "status": "error",
     "timestamp": 1553761498081,
     "user": {
      "displayName": "Giang Tran",
      "photoUrl": "https://lh3.googleusercontent.com/-H7Bep9wB0pA/AAAAAAAAAAI/AAAAAAAAAAo/KxYeBPfa1nc/s64/photo.jpg",
      "userId": "07673953151169661759"
     },
     "user_tz": -420
    },
    "id": "RPvn1MX5ZFEt",
    "outputId": "051fb53a-6d5e-40fb-a2a1-384421026ef3"
   },
   "outputs": [],
   "source": [
    "from utils_function import load_Boston_housing_data\n",
    "\n",
    "raw_train_X, test_X, train_Y, test_Y = load_Boston_housing_data(feature_ind = [4,5])"
   ]
  },
  {
   "cell_type": "markdown",
   "metadata": {},
   "source": [
    "Vừa rồi, ta vừa mới tải tập dữ liệu xuống và tách ra thành 4 tập. \n",
    "\n",
    "Trong đó, `train_X` và `train_Y` được dùng để xây dựng mô hình. Còn `test_X`, `test_Y` được giữ lại và chỉ được dùng để đánh giá độ tốt của mô hình ở phút cuối. \n",
    "\n",
    "Tỉ lệ được chia ra giữa các phần xây dựng và kiểm chứng là 1:4 Sau này, chúng ta sẽ học kỹ hơn về phần này nên phần đánh giá độ tốt của mô hình mình chỉ dừng lại ở mức là thực thi câu hàm đánh giá.\n",
    "\n",
    "Để đơn giản, dữ liệu được lấy vào chỉ gồm 2 đặc tính\n",
    "\n",
    "```\n",
    "    - NOX nitric oxides concentration (parts per 10 million)\n",
    "    - RM average number of rooms per dwelling\n",
    "```\n",
    "\n",
    "Tạm dịch\n",
    "\n",
    "```\n",
    "    - INDUS: nồng độ oxit nitric (phần trên 10 triệu)\n",
    "    - RM: số phòng trung bình mỗi căn hộ/ nhà\n",
    "```"
   ]
  },
  {
   "cell_type": "markdown",
   "metadata": {
    "colab_type": "text",
    "id": "ubr3DzJrZFE3"
   },
   "source": [
    "Để hiểu thêm về tập dữ liệu ta có thể làm thêm một số minh họa như sau"
   ]
  },
  {
   "cell_type": "markdown",
   "metadata": {
    "colab_type": "text",
    "id": "hfU8X4kkZFE5"
   },
   "source": [
    "#### Minh họa dữ liệu"
   ]
  },
  {
   "cell_type": "code",
   "execution_count": null,
   "metadata": {
    "colab": {
     "base_uri": "https://localhost:8080/",
     "height": 387
    },
    "colab_type": "code",
    "executionInfo": {
     "elapsed": 932,
     "status": "error",
     "timestamp": 1553761498921,
     "user": {
      "displayName": "Giang Tran",
      "photoUrl": "https://lh3.googleusercontent.com/-H7Bep9wB0pA/AAAAAAAAAAI/AAAAAAAAAAo/KxYeBPfa1nc/s64/photo.jpg",
      "userId": "07673953151169661759"
     },
     "user_tz": -420
    },
    "id": "azZBfq_KZFE6",
    "outputId": "60f6c199-d208-4987-bad6-aad394066824"
   },
   "outputs": [],
   "source": [
    "from utils_function import scatter_plot\n",
    "\n",
    "scatter_plot(raw_train_X[:, 0], train_Y,\\\n",
    "            title=\"Nitric oxides concentration (parts per 10 million)\",\\\n",
    "            x_label = \"Industrialness\",\\\n",
    "            y_label = \"Med House Price\")\n",
    "\n",
    "\n",
    "scatter_plot(raw_train_X[:, 1], train_Y,\\\n",
    "            title=\"Avg Num Rooms vs Med House Price\",\\\n",
    "            x_label = \"Avg Num Rooms\",\\\n",
    "            y_label = \"Med House Price\")"
   ]
  },
  {
   "cell_type": "markdown",
   "metadata": {
    "colab_type": "text",
    "id": "mXhdreS6ZFFB"
   },
   "source": [
    "#### Bài 1. Viết hàm loss function\n",
    "Nhắc lại, từ công thức tính **mean squared error** (mse), ta có:\n",
    "$$\\mathcal{L}(\\hat{y}, y) = \\frac{1}{2N} \\sum_{i=1}^N (\\hat{y}^{(i)}-y^{(i)})^2$$\n",
    "Khai triển công thức trên, ta có:\n",
    "$$\\mathcal{L}(\\hat{y}, y) = \\frac{1}{2N} \\sum_{i=1}^N (\\theta_1 x_1^{(i)} + \\theta_2 x_2^{(i)} + \\theta_0 - y^{(i)})^2$$\n",
    "$$= \\frac{1}{2N} \\sum_{i=1}^N (\\Theta^{-} x^{(i)} + \\theta_0 - y^{(i)})^2 $$\n",
    "với $$\\Theta^- = [\\theta_1,\\theta_2]$$"
   ]
  },
  {
   "cell_type": "markdown",
   "metadata": {
    "colab_type": "text",
    "id": "hpsRYit_ZFFD"
   },
   "source": [
    "#### TODO 1. Viết chương trình tính loss bằng vòng lặp"
   ]
  },
  {
   "cell_type": "code",
   "execution_count": null,
   "metadata": {
    "colab": {},
    "colab_type": "code",
    "id": "fZBuE6xyZFFE"
   },
   "outputs": [],
   "source": [
    "# GRADED FUNCTION\n",
    "def np_mse_loss(w, b, X, y):\n",
    "    ''' TO_DO_1: Từ công thức ở trên, biểu diễn hàm tính giá trị hàm mất mát (loss) mean squared error với vòng lặp FOR.\n",
    "             Vòng lặp FOR này sẽ lần lượt chạy qua từng điểm dữ liệu và tích luỹ giá trị loss.\n",
    "    Input:\n",
    "        - b: (tương đương với theta_0) kiểu số thực. \n",
    "             Là bias (hệ số tự do) của mô hình Linear Regression.\n",
    "        - w: (tương đương với mảng [theta_1, theta_2, ...] hay Theta–) kiểu numpy array, w.shape = (num_feat). \n",
    "             Là mảng các trọng số của các đặc trưng (features) trong mô hình Linear Regression.\n",
    "             Mảng này là mảng 1 chiều, có kích thước num_feat (Số lượng features). \n",
    "        - X: kiểu numpy array, X.shape = (num_points,num_feat). Là mảng đầu vào của tập dữ liệu huấn luyện.\n",
    "             Mảng này là mảng 2 chiều, có số hàng tương đương num_points (số lượng dữ liệu) và số cột tương ứng với num_feat.\n",
    "        - y: kiểu numpy array, y.shape = (num_points). Là mảng đầu ra của tập dữ liệu huấn luyện.\n",
    "             Mảng này là mảng 1 chiều, có kích thước num_points (số lượng dữ liệu).\n",
    "    Output: \n",
    "        - loss: kiểu số thực. Là tổng giá trị mất mát của mô hình Linear Regression với ứng tham số w, b và trên tập dữ liệu (X,y).\n",
    "    '''\n",
    "    loss = 0\n",
    "    N = len(y) # số điểm dữ liệu\n",
    "    for i in range(N):\n",
    "        x_i = X[i]\n",
    "        y_i = y[i]\n",
    "        \n",
    "        ### START CODE HERE ###\n",
    "        y_hat = None\n",
    "        loss += None    \n",
    "        ### END CODE HERE ###\n",
    "    \n",
    "    return loss"
   ]
  },
  {
   "cell_type": "markdown",
   "metadata": {},
   "source": [
    "*Sanity check cho TO_DO_1*"
   ]
  },
  {
   "cell_type": "code",
   "execution_count": null,
   "metadata": {
    "colab": {
     "base_uri": "https://localhost:8080/",
     "height": 163
    },
    "colab_type": "code",
    "executionInfo": {
     "elapsed": 889,
     "status": "error",
     "timestamp": 1553761502015,
     "user": {
      "displayName": "Giang Tran",
      "photoUrl": "https://lh3.googleusercontent.com/-H7Bep9wB0pA/AAAAAAAAAAI/AAAAAAAAAAo/KxYeBPfa1nc/s64/photo.jpg",
      "userId": "07673953151169661759"
     },
     "user_tz": -420
    },
    "id": "eDHcgRjUZFF5",
    "outputId": "5e3e1ecb-4d77-4264-a990-fb3116c18384"
   },
   "outputs": [],
   "source": [
    "epsilon = 1e-6\n",
    "assert np.abs(np_mse_loss([3, 5], 20, raw_train_X, train_Y) - 494.2816446016336) < epsilon, \"Chưa đúng!\""
   ]
  },
  {
   "cell_type": "markdown",
   "metadata": {
    "colab_type": "text",
    "id": "l1gRrI4vZFFt"
   },
   "source": [
    "#### Bài 2. Vector hóa hàm loss\n",
    "\n",
    "Ngoài ra, ta còn có thể viết lại công thức trên như sau:\n",
    "\n",
    "$$\\mathcal{L}(\\hat{y}, y) = \\frac{1}{2N} \\| \\Theta^{-\\top} \\bf{X}  + \\theta_0 \\mathbb{1} - \\bf{y} \\| ^2$$ "
   ]
  },
  {
   "cell_type": "markdown",
   "metadata": {
    "colab_type": "text",
    "id": "TW_mnudcZFFw"
   },
   "source": [
    "#### TODO 2. Viết chương trình tính loss bằng PP Vector hoá "
   ]
  },
  {
   "cell_type": "code",
   "execution_count": null,
   "metadata": {
    "colab": {},
    "colab_type": "code",
    "id": "0Yv_kF-PZFFy"
   },
   "outputs": [],
   "source": [
    "# GRADED FUNCTION\n",
    "def np_loss_vectorized(w, b, X, y):\n",
    "    ''' TO_DO_2: Từ công thức ở trên, thực hiện hàm tính giá trị hàm mất mát (loss) mean squared error bằng phương pháp vectorization.\n",
    "    Input:\n",
    "        - b: (tương đương với theta_0) kiểu số thực. \n",
    "             Là bias (hệ số tự do) của mô hình Linear Regression.\n",
    "        - w: (tương đương với mảng [theta_1, theta_2, ...] hay Theta–) kiểu numpy array, w.shape = (num_feat). \n",
    "             Là mảng các trọng số của các đặc trưng (features) trong mô hình Linear Regression.\n",
    "             Mảng này là mảng 1 chiều, có kích thước num_feat (Số lượng features). \n",
    "        - X: kiểu numpy array, X.shape = (num_points,num_feat). Là mảng đầu vào của tập dữ liệu huấn luyện.\n",
    "             Mảng này là mảng 2 chiều, có số hàng tương đương num_points (số lượng dữ liệu) và số cột tương ứng với num_feat.\n",
    "        - y: kiểu numpy array, y.shape = (num_points). Là mảng đầu ra của tập dữ liệu huấn luyện.\n",
    "             Mảng này là mảng 1 chiều, có kích thước num_points (số lượng dữ liệu).\n",
    "    Output: \n",
    "        - loss: kiểu số thực. Là tổng giá trị mất mát của mô hình Linear Regression với ứng tham số w, b và trên tập dữ liệu (X,y).\n",
    "    '''\n",
    "    \n",
    "    ### START CODE HERE ###\n",
    "    N = None\n",
    "    w = None\n",
    "    y_hat = None\n",
    "    ### END CODE HERE ###\n",
    "    \n",
    "    return None"
   ]
  },
  {
   "cell_type": "markdown",
   "metadata": {},
   "source": [
    "*Sanity check cho TO_DO_2*"
   ]
  },
  {
   "cell_type": "code",
   "execution_count": null,
   "metadata": {
    "colab": {
     "base_uri": "https://localhost:8080/",
     "height": 163
    },
    "colab_type": "code",
    "executionInfo": {
     "elapsed": 889,
     "status": "error",
     "timestamp": 1553761502015,
     "user": {
      "displayName": "Giang Tran",
      "photoUrl": "https://lh3.googleusercontent.com/-H7Bep9wB0pA/AAAAAAAAAAI/AAAAAAAAAAo/KxYeBPfa1nc/s64/photo.jpg",
      "userId": "07673953151169661759"
     },
     "user_tz": -420
    },
    "id": "eDHcgRjUZFF5",
    "outputId": "5e3e1ecb-4d77-4264-a990-fb3116c18384"
   },
   "outputs": [],
   "source": [
    "epsilon = 1e-6\n",
    "assert np.abs(np_loss_vectorized([3, 5], 20, raw_train_X, train_Y) - 494.2816446016336) < epsilon, \"Chưa đúng!\""
   ]
  },
  {
   "cell_type": "markdown",
   "metadata": {
    "colab_type": "text",
    "id": "U899ZS1IZFGL"
   },
   "source": [
    "#### Bài 3. Tính nghiệm chính xác\n",
    "\n",
    "Hiện tại, vector của ta đang có dạng (shape) như sau:"
   ]
  },
  {
   "cell_type": "code",
   "execution_count": null,
   "metadata": {
    "colab": {
     "base_uri": "https://localhost:8080/",
     "height": 163
    },
    "colab_type": "code",
    "executionInfo": {
     "elapsed": 732,
     "status": "error",
     "timestamp": 1553761503813,
     "user": {
      "displayName": "Giang Tran",
      "photoUrl": "https://lh3.googleusercontent.com/-H7Bep9wB0pA/AAAAAAAAAAI/AAAAAAAAAAo/KxYeBPfa1nc/s64/photo.jpg",
      "userId": "07673953151169661759"
     },
     "user_tz": -420
    },
    "id": "TNl21TFRZFGN",
    "outputId": "783e10c5-4d5c-4d65-bf2c-a76879496d63"
   },
   "outputs": [],
   "source": [
    "print(\"Kích thước input - Ma trận X %s\"  % str(raw_train_X.shape))"
   ]
  },
  {
   "cell_type": "code",
   "execution_count": null,
   "metadata": {
    "colab": {
     "base_uri": "https://localhost:8080/",
     "height": 163
    },
    "colab_type": "code",
    "executionInfo": {
     "elapsed": 626,
     "status": "error",
     "timestamp": 1553761504259,
     "user": {
      "displayName": "Giang Tran",
      "photoUrl": "https://lh3.googleusercontent.com/-H7Bep9wB0pA/AAAAAAAAAAI/AAAAAAAAAAo/KxYeBPfa1nc/s64/photo.jpg",
      "userId": "07673953151169661759"
     },
     "user_tz": -420
    },
    "id": "tarwkaiDZFGW",
    "outputId": "d946cc41-ea4b-49af-f9f5-6943a73bef2c"
   },
   "outputs": [],
   "source": [
    "print(\"Kích thuớc output - Mảng Y %s\"  % str(train_Y.shape))"
   ]
  },
  {
   "cell_type": "markdown",
   "metadata": {
    "colab_type": "text",
    "id": "sFQuW1e3ZFGf"
   },
   "source": [
    "Để tính $\\hat{y}$ hoàn toàn bằng phương pháp vector hoá ($\\hat{y}=\\Theta^T \\bf{X}$ thay vì $\\hat{y}=\\Theta^{-\\top} \\bf{X}  + \\theta_0 \\mathbb{1}$ ), ta cần bổ sung thêm một chiều đặc trưng (làm đơn vị với hệ số tự do $\\theta_0$) ở cột cuối của mỗi dòng trong ma trận $\\bf{X}$. Khi đó, mảng hệ số mảng các trọng số sẽ là $\\Theta = [\\Theta^-, \\theta_0]$.\n",
    "\n",
    "**Ví dụ** Ta biến đổi một ma trận $\\bf{X}$ 2x2 sang 2x3 như sau: `array([[ 2.5, 4.2], [ 6.2, 6.951]])`   $\\,\\to\\,$  `array([[2.5, 4.2, 1.], [ 6.2, 6.951, 1.]])`"
   ]
  },
  {
   "cell_type": "markdown",
   "metadata": {},
   "source": [
    "### Tìm nghiệm chính xác"
   ]
  },
  {
   "cell_type": "markdown",
   "metadata": {
    "colab_type": "text",
    "id": "zvbmdKThZFGg"
   },
   "source": [
    "#### 3. 1 Tái tạo vector cho tập train"
   ]
  },
  {
   "cell_type": "code",
   "execution_count": null,
   "metadata": {
    "colab": {},
    "colab_type": "code",
    "id": "Oriea6WgZFGh"
   },
   "outputs": [],
   "source": [
    "# Thêm số 1.0 vào mỗi hàng trong train_X bằng np.concatenate\n",
    "train_X = np.concatenate([raw_train_X, np.ones([np.shape(raw_train_X)[0], 1])], axis=1)"
   ]
  },
  {
   "cell_type": "markdown",
   "metadata": {
    "colab_type": "text",
    "id": "HVLeM-4oZFGp"
   },
   "source": [
    "#### 3.2 Viết chương trình tính nghiệm cho tham số tối ưu\n",
    " \n",
    "$$\\Theta = \\left(X^{\\rm T}X\\right)^{-1} \\left(X^{\\rm T}y \\right) $$"
   ]
  },
  {
   "cell_type": "markdown",
   "metadata": {},
   "source": [
    "#### TODO 3. Tìm tham số tối ưu bằng PP. Đại số"
   ]
  },
  {
   "cell_type": "code",
   "execution_count": null,
   "metadata": {
    "colab": {},
    "colab_type": "code",
    "id": "HurNkHCJZFGq"
   },
   "outputs": [],
   "source": [
    "# GRADED FUNCTION\n",
    "def np_solve_exactly(X, y):\n",
    "    ''' TO_DO_3: Giải bài toán Linear Regression sử dụng công thức chính xác (thay vì Gradient descent) để tìm ra w.\n",
    "    Input:\n",
    "        - X: kiểu numpy array, X.shape = (num_points,num_feat+1). Là mảng đầu vào của tập dữ liệu huấn luyện.\n",
    "             Lưu ý, số cột của mảng X là num_feat + 1: một cột giá trị tự do 1 đã được bổ sung như ở 3.1. \n",
    "        - y: kiểu numpy array, y.shape = (num_points). Là mảng đầu ra của tập dữ liệu huấn luyện. \n",
    "             Mảng này là mảng 1 chiều, có kích thước num_points (số lượng dữ liệu).\n",
    "    Output: \n",
    "        - w: (tương đương với mảng Theta) kiểu numpy array, w.shape = (num_feat+1). \n",
    "             Là mảng các trọng số của các đặc trưng (features) và bias trong mô hình Linear Regression.\n",
    "             Mảng này là mảng 1 chiều, có kích thước num_feat + 1 (Số lượng features + 1 tham số bias). \n",
    "\n",
    "    '''\n",
    "    ### START CODE HERE ###\n",
    "    w = None\n",
    "    ### END CODE HERE ###\n",
    "    \n",
    "    return None"
   ]
  },
  {
   "cell_type": "markdown",
   "metadata": {
    "colab_type": "text",
    "id": "6Fp-PpNKZFGy"
   },
   "source": [
    "*Sanity check cho TO_DO_3*"
   ]
  },
  {
   "cell_type": "code",
   "execution_count": null,
   "metadata": {
    "colab": {},
    "colab_type": "code",
    "id": "bkWce6e_ZFG0",
    "outputId": "a15aabe5-b167-4f81-d923-54dd98b81ea0"
   },
   "outputs": [],
   "source": [
    "opt_w_exactly = np_solve_exactly(train_X, train_Y)\n",
    "assert np.abs((opt_w_exactly - np.array([-21.65929075,   8.28370138, -17.55023481]))).sum() < epsilon, \"Chưa đúng!\""
   ]
  },
  {
   "cell_type": "markdown",
   "metadata": {},
   "source": [
    "Dưới đây là giá trị hàm mất mát với trọng số tốt nhất. Dễ thấy rằng dù với giá trị trọng số tối ưu, giá trị hàm mất mát vẫn lớn hơn 0.0"
   ]
  },
  {
   "cell_type": "code",
   "execution_count": null,
   "metadata": {},
   "outputs": [],
   "source": [
    "print(\"Loss: \", np_loss_vectorized(opt_w_exactly[:2], opt_w_exactly[2], raw_train_X, train_Y))"
   ]
  },
  {
   "cell_type": "markdown",
   "metadata": {
    "colab_type": "text",
    "id": "s1eTlYy1ZFHB"
   },
   "source": [
    "### Tìm nghiệm xấp xỉ bằng PP. Gradient Descent"
   ]
  },
  {
   "cell_type": "markdown",
   "metadata": {
    "colab_type": "text",
    "id": "0iDi5klvZFHD"
   },
   "source": [
    "#### Bài 4. Tính giá trị Gradient của trọng số mô hình Linear Regression\n",
    "\n",
    "Tương tự như tính giá trị hàm mất mát, có 2 cách tính gradient của các trọng số từ giá trị loss: lần lượt tính gradient cho từng trọng số **bằng vòng lặp** hoặc dùng **vector hoá** để đồng thời tính các giá trị này.\n",
    "\n",
    "\n",
    "Biểu diễn ở dạng lặp, với $i = 1...m $ và $j = 1...n$, giá trị gradient đối với mỗi trọng số là:\n",
    "\n",
    "$$ \\frac{\\partial \\mathcal{L}}{\\partial \\theta_j} = \\frac{1}{N}\\sum_i x_j^{(i)}(\\hat{y}^{(i)}-y^{(i)}) $$\n",
    "\n",
    "Biểu diễn dưới dạng vector hoá, vector gradient cho \"toàn bộ\" trọng số là:\n",
    "\n",
    "$$ \\frac{\\partial \\mathcal{L}}{\\partial \\Theta} = \\frac{1}{N} \\bf{X}^{\\top} (\\hat{y}-y) $$\n",
    "\n",
    "Ở đây, $\\frac{\\partial \\mathcal{L}}{\\partial \\Theta}$ có kích thước tương đương với $\\Theta$. (num_feat + 1)\n",
    "\n",
    "#### TODO 4. Tính giá trị Gradient (bằng PP. vector hoá)"
   ]
  },
  {
   "cell_type": "code",
   "execution_count": null,
   "metadata": {
    "colab": {},
    "colab_type": "code",
    "id": "dYDDwEn8ZFHF"
   },
   "outputs": [],
   "source": [
    "# GRADED FUNCTION\n",
    "def np_grad_fn(w, X, y):\n",
    "    ''' TO_DO_4: Tính gía trị gradient dw ứng với các trọng số w.\n",
    "    Input:\n",
    "        - X: kiểu numpy array, X.shape = (num_points,num_feat+1). Là mảng đầu vào của tập dữ liệu huấn luyện.\n",
    "             Khác với các TO_DO trước, số cột của mảng X là num_feat + 1: một cột giá trị tự do 1 đã được bổ sung như ở 3.1. \n",
    "        - y: kiểu numpy array, y.shape = (num_points). Là mảng đầu ra của tập dữ liệu huấn luyện. \n",
    "             Mảng này là mảng 1 chiều, có kích thước num_points (số lượng dữ liệu).\n",
    "        - w: (tương đương với mảng Theta) kiểu numpy array, w.shape = (num_feat+1). \n",
    "             Là mảng các trọng số của các đặc trưng (features) và bias trong mô hình Linear Regression.\n",
    "             Mảng này là mảng 1 chiều, có kích thước num_feat + 1 (Số lượng features + 1 tham số bias). \n",
    "    Output: \n",
    "        - dw: (tương đương với mảng Theta) kiểu numpy array, dw.shape = (num_feat+1). \n",
    "             Là mảng gradient tương ứng trọng số của các đặc trưng (features) và bias trong mô hình Linear Regression.\n",
    "             Mảng này là mảng 1 chiều, có kích thước num_feat + 1 (Số lượng features + 1 tham số bias). \n",
    "\n",
    "    '''\n",
    "    ### START CODE HERE ###\n",
    "    N, D = None\n",
    "    y_hat = None\n",
    "    dw = None\n",
    "    ### END CODE HERE ### \n",
    "\n",
    "    return None"
   ]
  },
  {
   "cell_type": "markdown",
   "metadata": {},
   "source": [
    "*Sanity check cho TO_DO_4*"
   ]
  },
  {
   "cell_type": "code",
   "execution_count": null,
   "metadata": {},
   "outputs": [],
   "source": [
    "w_tmp = np.array([1., 1.])\n",
    "X_tmp = np.array([[0.21689549, 0.31521348],\n",
    " [0.38986807, 0.79082874],\n",
    " [0.47470996, 0.14191608],\n",
    " [0.14848381, 0.08422181],\n",
    " [0.77351219, 0.03452519]])\n",
    "y_tmp = np.array([0.51813303, 0.8776886,  0.6795041,  0.11698178, 0.01161385])\n",
    "assert np.abs(np_grad_fn(w_tmp, X_tmp, y_tmp) - np.array([0.14490843, 0.05447055])) < epsilon).all(), \"Chưa đúng!\""
   ]
  },
  {
   "cell_type": "markdown",
   "metadata": {
    "colab_type": "text",
    "id": "JwgIvL3iZFHN"
   },
   "source": [
    "#### Bài  5. Cập nhật trọng số bằng Gradient Descent\n",
    "\n",
    "\n",
    "Việc cập nhật trọng số sẽ diễn ra qua nhiều lần. Ở mỗi lần, việc cập nhật diễn ra như sau: \n",
    "$$ \\Theta := \\Theta - \\alpha * \\frac{\\partial \\mathcal{L}}{\\partial \\Theta}$$\n",
    "Với $\\alpha$ là tốc độ của quá trình học (quá nhanh hoặc quá chậm đều không tốt!)\n",
    "\n",
    "#### 5.1 Viết chương trình"
   ]
  },
  {
   "cell_type": "markdown",
   "metadata": {},
   "source": [
    "#### TODO 5. Tìm tham số tối ưu bằng thuật toán Gradient Descent"
   ]
  },
  {
   "cell_type": "code",
   "execution_count": null,
   "metadata": {
    "colab": {},
    "colab_type": "code",
    "id": "hFetFIwRZFHP"
   },
   "outputs": [],
   "source": [
    "# GRADED FUNCTION\n",
    "def np_solve_via_gradient_descent(X, y, niter=100000, alpha=0.005):\n",
    "    ''' TO_DO_5: Tìm ra tham số (xấp xỉ) tối ưu w dựa trên thuật toán Gradient Descent.\n",
    "    * Hãy tận dụng những hàm số đã được viết ở các bài TO_DO trước.\n",
    "    \n",
    "    Input:\n",
    "        - X: kiểu numpy array, X.shape = (num_points,num_feat+1). Là mảng đầu vào của tập dữ liệu huấn luyện.\n",
    "             Mảng 2 chiều, có số cột là num_points, số hàng là num_feat+1.\n",
    "        - y: kiểu numpy array, y.shape = (num_points). Là mảng đầu ra của tập dữ liệu huấn luyện. \n",
    "             Mảng này là mảng 1 chiều, có kích thước num_points (số lượng dữ liệu).\n",
    "        - niter: (number iteration) kiểu số nguyên. Là số vòng lặp để thực hiện thuật toán gradient descent. (Giữ nguyên)\n",
    "        - alpha: kiểu số nguyên. Là siêu tham số huấn luyện đại diện cho tốc độ học. (Giữ nguyên)\n",
    "    Output: \n",
    "        - w: (tương đương với mảng Theta) kiểu numpy array, w.shape = (num_feat+1). \n",
    "             Là mảng các trọng số của các đặc trưng (features) và bias đã tối ưu (của mô hình Linear Regression).\n",
    "             Mảng này là mảng 1 chiều, có kích thước num_feat + 1 (Số lượng features + 1 tham số bias). \n",
    "\n",
    "    '''\n",
    "    N, D = np.shape(X)\n",
    "    w = np.zeros([D]) # khởi tạo toàn bộ trọng số bằng 0\n",
    "    \n",
    "    for k in range(niter):\n",
    "        \n",
    "        ### START CODE HERE ###\n",
    "        dw = None\n",
    "        w = None\n",
    "        ### END CODE HERE ###\n",
    "\n",
    "    return w"
   ]
  },
  {
   "cell_type": "code",
   "execution_count": null,
   "metadata": {},
   "outputs": [],
   "source": [
    "# GRADED FUNCTION\n",
    "def np_solve_via_gradient_descent(X, y, niter=100000, alpha=0.005):\n",
    "    '''\n",
    "    Given `X` - matrix of shape (N,D) of input features\n",
    "          `y` - target y values\n",
    "    Solves for linear regression weights.\n",
    "    Return weights after `niter` iterations.\n",
    "    '''\n",
    "    N, D = np.shape(X)\n",
    "    # initialize all the weights to zeros\n",
    "    w = np.zeros([D])\n",
    "    for k in range(niter):\n",
    "        #TO_DO_5: Complete the below followed the above expressions\n",
    "        dw = np_grad_fn(w, X, y)\n",
    "        w = w - alpha*dw\n",
    "    return w"
   ]
  },
  {
   "cell_type": "markdown",
   "metadata": {},
   "source": [
    "*Sanity check cho TO_DO_5*"
   ]
  },
  {
   "cell_type": "code",
   "execution_count": null,
   "metadata": {},
   "outputs": [],
   "source": [
    "assert np.abs((opt_w - np.array([-21.81212761,   8.26000052, -17.31471467])) < epsilon).all(), \"Chưa đúng!\""
   ]
  },
  {
   "cell_type": "markdown",
   "metadata": {
    "colab_type": "text",
    "id": "CVp2H_hVZFHT"
   },
   "source": [
    "#### 5.2 Chạy thử chương trình"
   ]
  },
  {
   "cell_type": "code",
   "execution_count": null,
   "metadata": {
    "colab": {},
    "colab_type": "code",
    "id": "2AEBeqsdZFHV",
    "outputId": "1a75d879-4bfb-470c-911e-b605e2817aab"
   },
   "outputs": [],
   "source": [
    "opt_w = np_solve_via_gradient_descent(train_X, train_Y)"
   ]
  },
  {
   "cell_type": "code",
   "execution_count": null,
   "metadata": {},
   "outputs": [],
   "source": [
    "print(\"Training loss:\", np_loss_vectorized(opt_w[:2], opt_w[2], raw_train_X, train_Y))"
   ]
  },
  {
   "cell_type": "code",
   "execution_count": null,
   "metadata": {},
   "outputs": [],
   "source": [
    "print(\"Testing loss:\", np_loss_vectorized(opt_w[:2], opt_w[2], test_X, test_Y))"
   ]
  },
  {
   "cell_type": "markdown",
   "metadata": {},
   "source": [
    "### Optional: Tạo các đặc trưng mới cho dữ liệu"
   ]
  },
  {
   "cell_type": "markdown",
   "metadata": {},
   "source": [
    "####  Bài 6. Kỹ thuật tách/trích đặc trưng (Feature Engineering)"
   ]
  },
  {
   "cell_type": "markdown",
   "metadata": {},
   "source": [
    "Feature Engineering là quá trình chuyển đổi tập dữ liệu thô ban đầu thành các đặc trưng (thuộc tính) quan trọng đại diện cho các mẫu dữ liệu huấn luyện giúp nâng cao độ chính xác của mô hình huấn luyện. các bài toán con trong Feature Engineering gồm trích xuất đặc trưng (Feature Extraction), lựa chọn đặc trưng (Feature Selection), học đặc trưng (Feature Learning) (sách \"Big Data Analytics: Systems, Algorithms, Applications\").\n",
    "\n",
    "Trong bài này chúng ta sử dụng phương pháp **Feature Extraction**, cụ thể xây dựng các đặc trưng mới để nâng cao độ chính xác của mô hình\n"
   ]
  },
  {
   "cell_type": "code",
   "execution_count": null,
   "metadata": {},
   "outputs": [],
   "source": [
    "n_samples, dimension = raw_train_X.shape\n",
    "\n",
    "X1 = raw_train_X[:,0].reshape((n_samples,1)) # Đặc trưng thứ nhất\n",
    "X2 = raw_train_X[:,1].reshape((n_samples,1)) # Đặc trưng thứ hai\n",
    "\n",
    "# Tạo các đặc trưng mới X1_sqr, sin_X2 và X1X2\n",
    "X1_sqr = (X1**2).reshape((n_samples,1))\n",
    "sin_X2 = (np.sin(X2)).reshape((n_samples,1))\n",
    "\n",
    "X1X2 = (X1*X2).reshape((n_samples,1))\n",
    "\n",
    "# Thêm các đặc trưng mới này vào tập đặc trưng của dữ liệu đầu vào. Sử dụng np.concatenate\n",
    "new_train_X = np.concatenate((X1,X2,X1_sqr,sin_X2,X1X2),axis=1) # concatenate new features here"
   ]
  },
  {
   "cell_type": "markdown",
   "metadata": {},
   "source": [
    "Thêm 1.0 vào hàng cuối của ma trận dữ liệu new_train_X bằng np.concatenate"
   ]
  },
  {
   "cell_type": "code",
   "execution_count": null,
   "metadata": {},
   "outputs": [],
   "source": [
    "featured_train_X = np.concatenate([new_train_X, np.ones([np.shape(new_train_X)[0], 1])], axis=1)"
   ]
  },
  {
   "cell_type": "markdown",
   "metadata": {},
   "source": [
    "Huấn luyện - Tìm trọng số sử dụng hàm np_solve_via_gradient_descent"
   ]
  },
  {
   "cell_type": "code",
   "execution_count": null,
   "metadata": {},
   "outputs": [],
   "source": [
    "opt_w = np_solve_via_gradient_descent(featured_train_X, train_Y)"
   ]
  },
  {
   "cell_type": "markdown",
   "metadata": {},
   "source": [
    "Tính giá trị mất mát với tập dữ liệu mới."
   ]
  },
  {
   "cell_type": "code",
   "execution_count": null,
   "metadata": {},
   "outputs": [],
   "source": [
    "print(\"New Training loss:\", np_loss_vectorized(opt_w[:-1], opt_w[-1], new_train_X, train_Y))"
   ]
  },
  {
   "cell_type": "markdown",
   "metadata": {},
   "source": [
    "Nhận xét : loss khi sử dụng các feature mới nhỏ hơn so với feature gốc\n"
   ]
  }
 ],
 "metadata": {
  "colab": {
   "name": "Lab1_Solution.ipynb",
   "provenance": [],
   "version": "0.3.2"
  },
  "kernelspec": {
   "display_name": "Python 3",
   "language": "python",
   "name": "python3"
  },
  "language_info": {
   "codemirror_mode": {
    "name": "ipython",
    "version": 3
   },
   "file_extension": ".py",
   "mimetype": "text/x-python",
   "name": "python",
   "nbconvert_exporter": "python",
   "pygments_lexer": "ipython3",
   "version": "3.7.9"
  }
 },
 "nbformat": 4,
 "nbformat_minor": 4
}
