{
 "cells": [
  {
   "cell_type": "code",
   "execution_count": 3,
   "metadata": {},
   "outputs": [],
   "source": [
    "#import\n",
    "import pandas as pd\n",
    "import numpy as np\n",
    "import matplotlib.pyplot as plt"
   ]
  },
  {
   "cell_type": "code",
   "execution_count": 61,
   "metadata": {},
   "outputs": [
    {
     "name": "stdout",
     "output_type": "stream",
     "text": [
      "(200, 4) <class 'numpy.ndarray'>\n",
      "(200, 1) <class 'numpy.ndarray'>\n",
      "(4, 1) <class 'numpy.ndarray'>\n"
     ]
    }
   ],
   "source": [
    "#Input data\n",
    "df = pd.read_csv('D:\\in\\Machine learning\\practice1\\Advertising.csv')\n",
    "X = df[['TV', 'radio', 'newspaper']]\n",
    "X = np.c_[np.ones(len(X)), X]\n",
    "y = df[['sales']].to_numpy()\n",
    "learning_rate = 0.00005\n",
    "training_epochs = 1000001\n",
    "w = np.random.rand(4,1)\n",
    "print(np.shape(X), type(X))\n",
    "print(np.shape(y), type(y))\n",
    "print(np.shape(w), type(w))\n"
   ]
  },
  {
   "cell_type": "code",
   "execution_count": 62,
   "metadata": {},
   "outputs": [],
   "source": [
    "#Mean square error\n",
    "def mse(X, w, y_hat,y, t):\n",
    "    N = len(y)\n",
    "    loss = (1/(2*N))*np.sum(np.square(y_hat-y))\n",
    "    return loss\n",
    "    # print(\"Loss after \", t ,\" iterations: \", loss)"
   ]
  },
  {
   "cell_type": "code",
   "execution_count": 65,
   "metadata": {},
   "outputs": [],
   "source": [
    "#gradient descent\n",
    "def gradient_descent(learning_rate, training_epochs, X, y, w):\n",
    "    N, D = np.shape(X)\n",
    "    loss = []\n",
    "    for k in range(training_epochs):\n",
    "        y_hat = np.zeros(np.shape(y))\n",
    "        y_hat += np.dot(X,w)\n",
    "        dw = (1/N)*(np.dot(np.transpose(X), y_hat - y))\n",
    "        w = w - dw*learning_rate\n",
    "        loss.append(mse(X, w, y_hat, y, k))\n",
    "    ite = np.arange(0, 1000001,1)\n",
    "    plt.plot(ite, loss)\n",
    "    plt.show()\n",
    "    return w\n"
   ]
  },
  {
   "cell_type": "code",
   "execution_count": 66,
   "metadata": {},
   "outputs": [
    {
     "data": {
      "image/png": "[encoded data removed]",
      "text/plain": [
       "<Figure size 640x480 with 1 Axes>"
      ]
     },
     "metadata": {},
     "output_type": "display_data"
    },
    {
     "data": {
      "text/plain": [
       "array([[ 2.93733010e+00],\n",
       "       [ 4.57689036e-02],\n",
       "       [ 1.88547904e-01],\n",
       "       [-1.02802204e-03]])"
      ]
     },
     "execution_count": 66,
     "metadata": {},
     "output_type": "execute_result"
    }
   ],
   "source": [
    "#run\n",
    "(gradient_descent(learning_rate, training_epochs, X, y, w))\n"
   ]
  },
  {
   "cell_type": "code",
   "execution_count": 24,
   "metadata": {},
   "outputs": [
    {
     "name": "stdout",
     "output_type": "stream",
     "text": [
      "[[ 2.93888937e+00]\n",
      " [ 4.57646455e-02]\n",
      " [ 1.88530017e-01]\n",
      " [-1.03749304e-03]]\n",
      "Loss after  1  iterations:  1.392063157255468\n"
     ]
    }
   ],
   "source": [
    "theta = np.dot(np.linalg.inv(np.dot(np.transpose(X),X)), np.dot(np.transpose(X), y))\n",
    "temp = np.zeros(np.shape(y))\n",
    "temp += np.dot(X,theta)\n",
    "print(theta)\n",
    "mse(X, theta, temp, y, 1)"
   ]
  }
 ],
 "metadata": {
  "kernelspec": {
   "display_name": "Python 3.10.7 64-bit",
   "language": "python",
   "name": "python3"
  },
  "language_info": {
   "codemirror_mode": {
    "name": "ipython",
    "version": 3
   },
   "file_extension": ".py",
   "mimetype": "text/x-python",
   "name": "python",
   "nbconvert_exporter": "python",
   "pygments_lexer": "ipython3",
   "version": "3.10.7"
  },
  "orig_nbformat": 4,
  "vscode": {
   "interpreter": {
    "hash": "a42ccb73e7d9bfdf27e036f1d2b8b681e55fc0743cc5586bc2474d4a60f4b886"
   }
  }
 },
 "nbformat": 4,
 "nbformat_minor": 2
}
