{
 "cells": [
  {
   "cell_type": "markdown",
   "metadata": {
    "colab_type": "text",
    "id": "E2Jo5LjHPCwl"
   },
   "source": [
    "# Homework 5: Softmax Regression\n",
    "\n",
    "Trong bài tập này, các bạn sẽ sử dụng kiến thức đã học về softmax regression để giải quyết bài toán phân loại nhiều lớp, cụ thể phân loại đồ dùng thời trang (áo, quần, giày dép, ....) từ bộ dữ liệu [Fashion-MNIST](https://github.com/zalandoresearch/fashion-mnist).\n",
    "\n",
    "<div style=\"margin-left: auto;margin-right: auto;width: 60%\"><img src=\"./imgs/mnist_fashion.jpeg\" /></div>\n",
    "<div style=\"text-align:center\">Mẫu dữ liệu từ tập Fashion-MNIST</div>"
   ]
  },
  {
   "cell_type": "markdown",
   "metadata": {
    "colab_type": "text",
    "id": "Q0WnQpFvV1uH"
   },
   "source": [
    "## Giới thiệu\n",
    "Để hoàn tất bài tập này, các bạn cần nắm rõ những kiến thức sau:\n",
    "* Softmax Regression\n",
    "* Cách lấy đạo hàm cho các tham số trong mô hình trên.\n",
    "* Giải thuật gradient descent.\n",
    "\n",
    "Bạn có thể tham khảo lại bài giảng để nắm vững các nội dung này. Ngoài ra, các bạn có thể đặt câu hỏi cho đội ngũ giảng viên nếu có thắc mắc.\n",
    "\n",
    "Bạn cần giải quyết bài tập này bằng cả **Numpy** và **Tensorflow**.\n",
    "\n",
    "Lưu ý: để tiện cho việc phân biệt giữa lớp python và lớp trong bài toán phân loại, người viết quy ước rằng khi viết **class** nghĩa là đang nói về python class, khi viết **lớp** nghĩa là đang nói đến lớp của dữ liệu cần phân loại."
   ]
  },
  {
   "cell_type": "markdown",
   "metadata": {
    "colab_type": "text",
    "id": "beP2NTIcWc2e"
   },
   "source": [
    "## Hướng dẫn làm và nộp bài\n",
    "1./ Ở mỗi bài tập, các bạn sẽ được yêu cầu điền phần còn thiếu vào trong hàm. Các cell cần điền sẽ có dòng đầu tiên như sau:\n",
    "```python\n",
    "# GRADED FUNCTION: <tên hàm>\n",
    "...\n",
    "```\n",
    "Trong cell đó, các bạn sẽ code phần đáp án của mình giữa 2 phần:\n",
    "```python\n",
    "### START CODE HERE ###\n",
    "<phần bài làm>\n",
    "### END CODE HERE ###\n",
    "```\n",
    "Sau đó, các bạn trả về giá trị đầu ra của hàm số (nếu có) sau phần `return` (ví du: `return output`, bỏ giá trị **None** đi)\n",
    "\n",
    "2./ Để kiểm tra lỗi nhanh cho hàm bạn vừa viết, thực hiện chạy phần `Sanity check` ở sau mỗi TO_DO.  \n",
    "\n",
    "3./ Tiếp theo, sau khi đã vượt qua Sanity check, bạn chạy file `check_score.py` để kiểm tra điểm mà bạn hiện tại cho phần bài làm của bạn. Nếu không thay đổi tên và vị trí mặc định của file bài tập, bạn có thể gọi dòng lệnh sau từ terminal để nộp bài:\n",
    "```\n",
    "python check_score.py\n",
    "```\n",
    "Nếu bạn đã thay đổi vị trí hoặc tên bài tập. Bạn trỏ đến vị trí của bài tập bằng dòng lệnh sau:\n",
    "```\n",
    "python check_score.py -filepath <PATH_ĐẾN_FILE_.IPYNB_BÀI_LÀM_CỦA_BẠN>\n",
    "```\n",
    "Sau khi chạy dòng lệnh trên, vui lòng điền `username`, bạn sẽ nhận được kết quả trả về cho bài làm của bạn.  \n",
    "\n",
    "**Lưu ý:** Bạn có thể kiểm tra điểm bằng cách chạy file `check_score.py` bao nhiêu lần bạn muốn."
   ]
  },
  {
   "cell_type": "markdown",
   "metadata": {},
   "source": [
    "## Điểm số\n",
    "Điểm tối đa cho bài tập này là **100 điểm**. Trong đó, TODO 8 là bài tập tự chọn (20 điểm). Bạn có thể chọn không làm mà vẫn đạt 100% điểm của bài tập này (**80 điểm**)."
   ]
  },
  {
   "cell_type": "markdown",
   "metadata": {
    "colab_type": "text",
    "id": "X7aYjoAWXu9t"
   },
   "source": [
    "#### IMPORT CÁC THƯ VIỆN CẦN THIẾT\n",
    "Nếu chạy trên máy tính cá nhân, trước hết bạn cần install các thư viện cần thiết bằng cách chạy dòng lệnh sau trong terminal:\n",
    "```\n",
    "pip install -r requirements.txt\n",
    "```\n",
    "Nếu bạn chạy trên nền tảng Google Colab, bạn có thể bổ qua bước trên."
   ]
  },
  {
   "cell_type": "code",
   "execution_count": 44,
   "metadata": {
    "colab": {},
    "colab_type": "code",
    "id": "neGnxsHDO8Fu"
   },
   "outputs": [],
   "source": [
    "# IMPORT\n",
    "import numpy as np\n",
    "import gzip\n",
    "import matplotlib.pyplot as plt\n",
    "import tensorflow as tf"
   ]
  },
  {
   "cell_type": "markdown",
   "metadata": {
    "colab_type": "text",
    "id": "3DQ_YhCQX32D"
   },
   "source": [
    "## Tải dữ liệu\n",
    "Các bạn chạy cell bên dưới để tải bộ dữ liệu cũng như các hàm dùng để test cách cài đặt của các bạn:"
   ]
  },
  {
   "cell_type": "code",
   "execution_count": 45,
   "metadata": {
    "colab": {
     "base_uri": "https://localhost:8080/",
     "height": 51
    },
    "colab_type": "code",
    "id": "jxvIONdhX8tn",
    "outputId": "ce5da57c-f7e3-48bf-97cc-fb35accea716"
   },
   "outputs": [],
   "source": [
    "# from google_drive_downloader import GoogleDriveDownloader as gdd\n",
    "# gdd.download_file_from_google_drive(file_id='1umcIzISPX2FhMT3OBg-Io7LninG7Hste', dest_path='./assignment3.zip', unzip=True)"
   ]
  },
  {
   "cell_type": "markdown",
   "metadata": {
    "colab_type": "text",
    "id": "R168PMadYQFU"
   },
   "source": [
    "Dữ liệu tải xuống của bạn bao gồm:\n",
    "\n",
    "* Folder `fashion-mnist`: chứa 4 zip files dữ liệu.\n",
    "* File softmax_unittest.npy: được dùng để kiểm tra một số hàm mà bạn cài đặt."
   ]
  },
  {
   "cell_type": "code",
   "execution_count": 46,
   "metadata": {
    "colab": {
     "base_uri": "https://localhost:8080/",
     "height": 34
    },
    "colab_type": "code",
    "id": "cqAxrUEiYMcP",
    "outputId": "e347498b-efd5-45d1-bd4b-fc67612a6b99"
   },
   "outputs": [
    {
     "name": "stderr",
     "output_type": "stream",
     "text": [
      "'ls' is not recognized as an internal or external command,\n",
      "operable program or batch file.\n"
     ]
    }
   ],
   "source": [
    "!ls assignment3"
   ]
  },
  {
   "cell_type": "markdown",
   "metadata": {
    "colab_type": "text",
    "id": "TmmCYM_PZBOo"
   },
   "source": [
    "## Các hàm bổ trợ dùng để đọc dữ liệu\n",
    "Các hàm bổ trợ trong việc đọc dữ liệu đã được định nghĩa sẵn, các bạn **thực hiện chạy** những hàm này mà không cần chỉnh sửa."
   ]
  },
  {
   "cell_type": "code",
   "execution_count": 47,
   "metadata": {
    "colab": {},
    "colab_type": "code",
    "id": "YdHIzttSYejU"
   },
   "outputs": [],
   "source": [
    "def read_mnist_gz(data_path, offset):\n",
    "    with gzip.open(data_path, 'rb') as f:\n",
    "        dataset = np.frombuffer(f.read(), dtype=np.uint8, offset=offset)\n",
    "\n",
    "    return dataset\n",
    "\n",
    "\n",
    "def get_mnist_data(sampling_step=20):\n",
    "    print('Reading fashion MNIST data...')\n",
    "    train_x = read_mnist_gz('./assignment3/fashion-mnist/train-images-idx3-ubyte.gz', 16)\n",
    "    train_y = read_mnist_gz('./assignment3/fashion-mnist/train-labels-idx1-ubyte.gz', 8)\n",
    "    test_x = read_mnist_gz('./assignment3/fashion-mnist/t10k-images-idx3-ubyte.gz', 16)\n",
    "    test_y = read_mnist_gz('./assignment3/fashion-mnist/t10k-labels-idx1-ubyte.gz', 8)\n",
    "    num_train = len(train_y)\n",
    "    num_test = len(test_y)\n",
    "\n",
    "    train_x = train_x.reshape((num_train, 28*28))\n",
    "    test_x = test_x.reshape((num_test, 28*28))\n",
    "\n",
    "    val_x = train_x[50000:,:]\n",
    "    val_y = train_y[50000:]\n",
    "    train_x = train_x[:50000,:]\n",
    "    train_y = train_y[:50000]\n",
    "\n",
    "    train_x = train_x[0::sampling_step,:]\n",
    "    train_y = train_y[0::sampling_step]\n",
    "    val_x = val_x[0::sampling_step,:]\n",
    "    val_y = val_y[0::sampling_step]\n",
    "    test_x = test_x[0::sampling_step,:]\n",
    "    test_y = test_y[0::sampling_step]\n",
    "    return train_x.astype(np.float32), train_y, val_x.astype(np.float32), val_y, test_x.astype(np.float32), test_y\n",
    "\n",
    "def get_side(img, side_type, n = 5):\n",
    "    h, w = img.shape\n",
    "    if side_type == \"horizontal\":\n",
    "        return np.ones((h,n))\n",
    "    return np.ones((n,w))\n",
    "\n",
    "def show_gallery(ims,n=5, shuffle=True):\n",
    "    images = []\n",
    "    vertical_images = []\n",
    "    if shuffle:\n",
    "        np.random.shuffle(ims)\n",
    "    vertical_images = []\n",
    "    for i in range(n*n):\n",
    "        img = ims[i].reshape(28,28)\n",
    "        hside = get_side(img,side_type=\"horizontal\")\n",
    "        images.append(img)\n",
    "        images.append(hside)\n",
    "        \n",
    "        if (i+1) % n == 0:\n",
    "            himage=np.hstack((images))\n",
    "            vside = get_side(himage, side_type=\"vertical\")\n",
    "            vertical_images.append(himage)\n",
    "            vertical_images.append(vside)\n",
    "            \n",
    "            images = []\n",
    "        \n",
    "    gallery = np.vstack((vertical_images))\n",
    "    plt.figure(figsize=(20,20))\n",
    "    plt.axis(\"off\")\n",
    "    plt.imshow(gallery.astype(np.uint8), cmap=\"gray\")\n",
    "    plt.show()\n",
    "\n",
    "def add_one(x):\n",
    "    \"\"\"add_one\n",
    "    This function add ones as an additional feature for x.\n",
    "\n",
    "    :param x: input data\n",
    "    \"\"\"\n",
    "    x = np.concatenate((x, np.ones((x.shape[0], 1))), axis=1)\n",
    "    return x\n",
    "\n",
    "def create_one_hot(labels, num_k=10):\n",
    "    \"\"\"create_one_hot\n",
    "    This function creates a one-hot (one-of-k) matrix based on the given labels\n",
    "\n",
    "    :param labels: list of labels, each label is one of 0, 1, 2,... , num_k - 1\n",
    "    :param num_k: number of classes we want to classify\n",
    "    \"\"\"\n",
    "    eye_mat = np.eye(num_k)\n",
    "    eye_mat = eye_mat[labels, :].astype(np.float32)\n",
    "    return eye_mat"
   ]
  },
  {
   "cell_type": "markdown",
   "metadata": {
    "colab_type": "text",
    "id": "x7faKD0KcExg"
   },
   "source": [
    "## Dữ liệu fashion MNIST\n",
    "\n",
    "Ta có thể đọc tập dữ liệu này bằng hàm `get_mnist_data()`:"
   ]
  },
  {
   "cell_type": "code",
   "execution_count": 48,
   "metadata": {
    "colab": {
     "base_uri": "https://localhost:8080/",
     "height": 34
    },
    "colab_type": "code",
    "id": "LC6Ak0zJbFao",
    "outputId": "5bac8a69-0a98-466a-d3a9-a9f7ced58bff"
   },
   "outputs": [
    {
     "name": "stdout",
     "output_type": "stream",
     "text": [
      "Reading fashion MNIST data...\n"
     ]
    }
   ],
   "source": [
    "train_x, train_y, val_x, val_y, test_x, test_y = get_mnist_data()"
   ]
  },
  {
   "cell_type": "markdown",
   "metadata": {
    "colab_type": "text",
    "id": "aMzhxHDLckdE"
   },
   "source": [
    "Tập dữ liệu này gồm các ảnh xám kích thước $28 \\times 28$. Có tất cả 50000 ảnh train, 10000 ảnh validation và 10000 ảnh test. Mỗi ảnh thuộc một trong 10 loại quần, áo, giày, túi xách, v.v. Tuy nhiên trong bài tập này ta chỉ lấy 2500 ảnh train, 500 ảnh validation và 500 ảnh test."
   ]
  },
  {
   "cell_type": "code",
   "execution_count": 49,
   "metadata": {
    "colab": {
     "base_uri": "https://localhost:8080/",
     "height": 119
    },
    "colab_type": "code",
    "id": "SNkMzye4cJd-",
    "outputId": "5a79877c-f689-4a8c-878a-9bd2789b3829"
   },
   "outputs": [
    {
     "name": "stdout",
     "output_type": "stream",
     "text": [
      "train_x:  (2500, 784)\n",
      "train_y:  (2500,)\n",
      "val_x:    (500, 784)\n",
      "val_y:    (500,)\n",
      "test_x:   (500, 784)\n",
      "test_y:   (500,)\n"
     ]
    }
   ],
   "source": [
    "print(\"train_x: \" ,train_x.shape)\n",
    "print(\"train_y: \", train_y.shape)\n",
    "print(\"val_x:   \", val_x.shape)\n",
    "print(\"val_y:   \", val_y.shape)\n",
    "print(\"test_x:  \", test_x.shape)\n",
    "print(\"test_y:  \", test_y.shape)"
   ]
  },
  {
   "cell_type": "code",
   "execution_count": 50,
   "metadata": {
    "colab": {
     "base_uri": "https://localhost:8080/",
     "height": 1000
    },
    "colab_type": "code",
    "id": "IG34oOahc4oB",
    "outputId": "12e5bf4e-dd74-46ca-eb32-30b9118c3f76"
   },
   "outputs": [],
   "source": [
    "#show_gallery(train_x, n=5, shuffle=True)"
   ]
  },
  {
   "cell_type": "markdown",
   "metadata": {
    "colab_type": "text",
    "id": "tLRR_U2-hiSz"
   },
   "source": [
    "Giá trị của `train_y` và `test_y` có thể là 0, 1, ..., 9 thay vì là 0 và 1 như bài 2 (Logistic Regression). Ngoài ra, dữ liệu ảnh khi được đọc lên sẽ có dạng tensor 2D (3500x784)."
   ]
  },
  {
   "cell_type": "markdown",
   "metadata": {
    "colab_type": "text",
    "id": "Wae6pJjxk1H8"
   },
   "source": [
    "## Chuẩn hóa dữ liệu\n",
    "Trong bước này, ta sẽ chuẩn hóa dữ liệu `train_x`, `val_x` và `test_x` theo cách xem các pixel khác nhau trong ảnh là cùng 1 loại đặc trưng (như đã đề cập trong bài tập Logistic Regression).\n",
    "\n",
    "\\begin{equation}\n",
    "\\overline{x} = \\frac{1}{mRC}\\sum_{i=0}^{m-1}{\\sum_{r=0}^{R-1}{\\sum_{c=0}^{C-1}{x_{rc}^{(i)}}}} \\tag{3}\n",
    "\\end{equation}\n",
    "\n",
    "\\begin{equation}\n",
    "\\sigma=\\sqrt{\\frac{1}{mRC}\\sum_{i=0}^{m-1}{\\sum_{r=0}^{R-1}{\\sum_{c=0}^{C-1}{(x_{rc}^{(i)}-\\overline{x})^2}}}} \\tag{4}\n",
    "\\end{equation}\n",
    "\n",
    "Sau khi có được mean và std trên toàn bộ data huấn luyện, ta chuẩn hóa các mẫu trong tập huấn luyện theo cách sau:\n",
    "\n",
    "\\begin{equation}\n",
    "x^{(i)} = \\frac{x^{(i)}-\\overline{x}}{\\sigma} \\tag{5}\n",
    "\\end{equation} \n",
    "\n",
    "Tuy nhiên, do tập dữ liệu MNIST khi load đã được đặt dưới dạng tensor 2D, nên trong công thức tính tổng chỉ còn $m$ và $R=784$."
   ]
  },
  {
   "cell_type": "markdown",
   "metadata": {
    "colab_type": "text",
    "id": "psktAn-TlprH"
   },
   "source": [
    "### TODO 1: normalize (10)"
   ]
  },
  {
   "cell_type": "code",
   "execution_count": 51,
   "metadata": {
    "colab": {},
    "colab_type": "code",
    "id": "xw3ozUKnltJj"
   },
   "outputs": [],
   "source": [
    "# GRADED FUNCTION: normalize\n",
    "from re import X\n",
    "\n",
    "\n",
    "def normalize(train_x, val_x, test_x):\n",
    "    \"\"\"TODO 1: Thực hiện hàm chuẩn hoá từng dự liệu trên toàn bộ pixel của ảnh.\n",
    "    Hàm này tính giá trị trung bình và độ lệch chuẩn của tất cả các pixel có trong tập hình ảnh huấn luyện train_x\n",
    "        và thực hiện chuẩn hoá dữ liệu trên tập train_x, val_x và test_x bằng các giá trị này.\n",
    "    \n",
    "    Input:\n",
    "        - train_x: mảng numpy, train_x.shape = (num_samples, num_feat). Là tập dữ liệu ảnh huấn luyện.\n",
    "        - test_x: mảng numpy, train_x.shape = (num_samples, num_feat). Là tập dữ liệu ảnh kiểm định.\n",
    "        - test_x: mảng numpy, train_x.shape = (num_samples, num_feat). Là tập dữ liệu ảnh đánh giá.\n",
    "        Với: num_feat = image_height*image_width\n",
    "    Output:\n",
    "        - norm_train_x: tương tự như mảng train_x. Là tập dữ liệu ảnh huấn luyện đã được chuẩn hoá.\n",
    "        - norm_val_x: tương tự như mảng val_x. Là tập dữ liệu ảnh kiểm định đã được chuẩn hoá.\n",
    "        - norm_test_x: tương tự như mảng test_x. Là tập dữ liệu ảnh đánh giá đã được chuẩn hoá.\n",
    "    Lưu ý: Shape của train_mean và train_std có dạng (1, 1)\n",
    "    \"\"\"\n",
    "    ### START CODE HERE ### (≈5 lines)\n",
    "    norm_train_x = (train_x - np.mean(train_x))/np.sqrt(np.mean((train_x-np.mean(train_x))**2))\n",
    "    norm_val_x = (val_x - np.mean(val_x))/np.sqrt(np.mean((val_x-np.mean(val_x))**2))\n",
    "    norm_test_x = (test_x - np.mean(test_x))/np.sqrt(np.mean((test_x-np.mean(test_x))**2))\n",
    "    ### END CODE HERE ###\n",
    "    return norm_train_x, norm_val_x, norm_test_x"
   ]
  },
  {
   "cell_type": "code",
   "execution_count": 52,
   "metadata": {
    "colab": {},
    "colab_type": "code",
    "id": "A6kMQHATlzG9"
   },
   "outputs": [],
   "source": [
    "### SANITY CHECK\n",
    "eps = 1e-6\n",
    "sc_train_x = np.arange(2*4).reshape(2, 4)\n",
    "x, y, z = normalize(sc_train_x, sc_train_x, sc_train_x)\n",
    "assert np.sum((x, y, z)) < eps, \"Chưa đúng\""
   ]
  },
  {
   "cell_type": "markdown",
   "metadata": {
    "colab_type": "text",
    "id": "yezgW0-3mDjA"
   },
   "source": [
    "## Tiền xử lý vector label thành dạng one-hot\n",
    "\n",
    "Các biến `train_y`, `val_y`, `test_y` lúc này là một vector chứa các giá trị 0, 1, ..., 9; nhưng để tính hàm lỗi của softmax regression, ta nên chuyển chúng về dạng ma trận one-hot (one-of-k). Giả sử ta có vector label có 6 phần tử, mỗi phần tử nằm trong khoảng từ 0 đến 4:\n",
    "\n",
    "\\begin{equation}\n",
    "\ty = [3,4,0,0,2,1]^T \\tag{17}\n",
    "\\end{equation}\n",
    "\n",
    "Ta sẽ có biến đổi one-hot tương ứng của nó là:\n",
    "\\begin{equation}\n",
    "y = \\begin{bmatrix}\n",
    "\t0 & 0 & 0 & \\color{red}1 & 0\\\\\n",
    "\t0 & 0 & 0 & 0 & \\color{red}1\\\\\n",
    "\t\\color{red}1 & 0 & 0 & 0 & 0\\\\\n",
    "\t\\color{red}1 & 0 & 0 & 0 & 0\\\\\n",
    "\t0 & 0 & \\color{red}1 & 0 & 0\\\\\n",
    "\t0 & \\color{red}1 & 0 & 0 & 0\n",
    "\\end{bmatrix} \\tag{18}\n",
    "\\end{equation}\n",
    "\n",
    "Label thứ nhất có giá trị là 3, vì vậy nên trong hàng thứ nhất ở ma trận trên cột 3 có giá trị 1, tất cả các cột khác trong hàng này là 0. Tương tự cho hàng thứ 2, label là 4, nên cột 4 trong hàng 2 có giá trị là 1.\n",
    "\n",
    "\n",
    "Để việc biến đổi giá trị của mảng sang dạng one-hot được nhanh chóng, ta nên sử dụng index array hay index vector trên ma trận đơn vị. Tham khảo thêm ở đây: [Numpy basic indexing - Index arrays](https://docs.scipy.org/doc/numpy-1.13.0/user/basics.indexing.html#index-arrays)."
   ]
  },
  {
   "cell_type": "markdown",
   "metadata": {
    "colab_type": "text",
    "id": "Y0pRUu8vmTGv"
   },
   "source": [
    "## Tính các giá trị phân loại\n",
    "\n",
    "Để tính các giá trị phân loại trong bài này, ta hiện thực các công thức sau trong hàm `feed_forward` và `softmax`:\n",
    "\n",
    "\\begin{equation}\n",
    "z = xw \\space, \\quad x \\in R^{m\\times D}, w \\in R^{D \\times K} \\tag{19}\n",
    "\\end{equation}\n",
    "\n",
    "Trong đó, $m$ là số lượng mẫu dữ liệu, $D$ là số lượng đặc trưng của dữ liệu đầu vào (785 sau khi thêm 1 vào cuối), $K$ là số lượng nhãn trong bài toán ta đang làm (10).\n",
    "\n",
    "\\begin{equation}\n",
    "z_{max} = [max(z^{(0)}), max(z^{(1)}),.., max(z^{(m-1)})]^T  \\tag{20}\n",
    "\\end{equation}\n",
    "\n",
    "Tại đây, $z_{max}$ là một vector cột (kích thước $m \\times 1$).\n",
    "\n",
    "\\begin{equation}\n",
    "z' = e^{z - z_{max}} \\tag{21}\n",
    "\\end{equation}\n",
    "\n",
    "Trong biểu thức trên, ta sẽ dùng cột thứ nhất của $z$ trừ cho $z_{max}$, cột thứ 2 của $z$ trừ cho $z_{max}$, v.v. Sau đó, ta tính lũy thừa cho từng phần tử trên hiệu đã tính. Kết quả tại bước này là một ma trận $z'$ có kích thước $m \\times K$.\n",
    "\n",
    "Kế tiếp, ta cần tính tổng sau:\n",
    "\n",
    "\\begin{equation}\n",
    "s = \\sum^{K-1}_{k=0}z'^{(i)}_{k} ,\\quad 0\\le i \\le m-1\\tag{22}\n",
    "\\end{equation}\n",
    "\n",
    "Như vậy, $s$ sẽ là vector chứa tổng từng hàng của ma trận $z'$. $s$ có kích thước $m \\times 1$. Sau cùng, ta có thể tính softmax bằng cách lấy mỗi phần tử trong $z'$ chia cho tổng hàng tương ứng:\n",
    "\n",
    "\\begin{equation}\n",
    "\\hat{y}^{(i)}_{k} = \\frac{z'^{(i)}_{k}}{s^{(i)}}, \\quad 0\\le i \\le m-1, 0\\le k \\le K-1 \\tag{23}\n",
    "\\end{equation}\n",
    "\n",
    "Sau khi tổng hợp lại toàn bộ các phần tử $i, k$ của $\\hat{y}$, ta sẽ có ma trận có kích thước $m \\times K$. Trong ma trận này, mỗi hàng thứ $i$ biểu diễn vector xác suất lớp của mẫu ảnh thứ $i$. Vì vậy, tổng của mỗi hàng luôn bằng 1."
   ]
  },
  {
   "cell_type": "markdown",
   "metadata": {
    "colab_type": "text",
    "id": "sHmpJu5xiMWD"
   },
   "source": [
    "## Class SoftmaxClassifier với numpy\n",
    "\n",
    "Tương tự như class `LogisticClassifier` đã cài đặt ở bài trước, class SoftmaxClassifier cần được khởi tạo trọng số `w` và có thể sử dụng lại hàm `update_weight` của class `LogisticClassifier`."
   ]
  },
  {
   "cell_type": "markdown",
   "metadata": {
    "colab_type": "text",
    "id": "by39evlbmaA_"
   },
   "source": [
    "### TODO 2: feed_forward (10)\n",
    "Các bạn hoàn thành hàm `feed_forward` ở phần class SoftmaxClassifier."
   ]
  },
  {
   "cell_type": "markdown",
   "metadata": {
    "colab_type": "text",
    "id": "1NaAn4ixmzWs"
   },
   "source": [
    "### TODO 3: softmax (10)\n",
    "Các bạn hoàn thành hàm `softmax` ở phần class SoftmaxClassifier."
   ]
  },
  {
   "cell_type": "markdown",
   "metadata": {
    "colab_type": "text",
    "id": "gD5HWyPsm2Kj"
   },
   "source": [
    "### Tính độ lỗi\n",
    "Công thức tính độ lỗi category như sau:\n",
    "\n",
    "\\begin{equation}\n",
    "J(w) = -\\frac{1}{m}\\sum_{i=0}^{m-1}\\sum_{k=0}^{K-1} y^{(i)}_k \\log\\hat{y}^{(i)}_k \\tag{24}\n",
    "\\end{equation}\n",
    "\n",
    "Trong đó:\n",
    "- $y^{(i)}_k$ là phần tử hàng $i$ cột $k$ trong ma trận nhãn one-hot $y$ (đã đề cập trong phần trước).\n",
    "- $\\hat{y}^{(i)}_k \\in (0, 1)$ là hàng $i$ cột $k$ trong ma trận $\\hat{y}$."
   ]
  },
  {
   "cell_type": "markdown",
   "metadata": {
    "colab_type": "text",
    "id": "6Tp444EjtdJ6"
   },
   "source": [
    "#### TODO 4: compute_loss (10)\n",
    "Các bạn hoàn thành hàm `compute_loss` ở phần class SoftmaxClassifier."
   ]
  },
  {
   "cell_type": "markdown",
   "metadata": {
    "colab_type": "text",
    "id": "m2JO5yQunwNB"
   },
   "source": [
    "## Tính đạo hàm\n",
    "Công thức tính đạo hàm theo từng tham số $w_{jk}$ được biểu diễn như sau:\n",
    "\n",
    "\\begin{equation}\n",
    "\\frac{\\partial  J(w_{jk})}{\\partial w_{jk}} = \\frac{1}{m}\\sum_{i=0}^{m-1} x^{(i)}_j (\\hat{y}^{(i)}_k - y^{(i)}_k) \\tag{25}\n",
    "\\end{equation}\n",
    "\n",
    "Với $0 \\le j \\le D-1$. Viết lại dưới dạng ma trận ta có được:\n",
    "\n",
    "\\begin{equation}\n",
    "\\frac{\\partial  J(w)}{\\partial w} = \\frac{1}{m}x^T(\\hat{y} - y) \\tag{26}\n",
    "\\end{equation}\n",
    "\n",
    "### TODO 5: get_grad (10)\n",
    "Các bạn hoàn thành hàm `get_grad` ở phần class SoftmaxClassifier."
   ]
  },
  {
   "cell_type": "code",
   "execution_count": 53,
   "metadata": {
    "colab": {},
    "colab_type": "code",
    "id": "bSDXPiuWfgxW"
   },
   "outputs": [],
   "source": [
    "# GRADED FUNCTION\n",
    "class SoftmaxClassifier(object):\n",
    "    def __init__(self, w_shape):\n",
    "        self.w = np.random.normal(0, np.sqrt(2./np.sum(w_shape)), w_shape)\n",
    "\n",
    "\n",
    "    def softmax(self, x):\n",
    "        \"\"\"TODO 2: Triển khai hàm softmax.\n",
    "        Input:\n",
    "            - x: mảng numpy, x.shape = (num_samples, num_feat) - Ở đây num_feat = image_height*image_width. \n",
    "                 Là mảng tensor 2D chứa các pixel đầu vào của mô hình.\n",
    "        Output:\n",
    "            - result: mảng numpy, result.shape = (num_samples,1). Kết quả của thuật toán softmax.\n",
    "\n",
    "        \"\"\"\n",
    "        result = None\n",
    "        ### START CODE HERE ### (≈4 lines)\n",
    "        z = np.dot(x, self.w)\n",
    "        z_max = np.reshape(np.amax(z, axis=1), (len(x),1))\n",
    "        result = np.exp(z-z_max)\n",
    "        ### END CODE HERE ###\n",
    "        return result\n",
    "\n",
    "\n",
    "    def feed_forward(self, x):\n",
    "        \"\"\"TODO 3: Thực hiện hàm feed_forward (Lan truyền thuận) để tính toán giá trị output của mô hình Softmax Regression.\n",
    "     \n",
    "        Input:\n",
    "            - x: mảng numpy, x.shape = (num_samples, num_feat) - Ở đây num_feat = image_height*image_width. \n",
    "                 Là mảng tensor 2D chứa các pixel đầu vào của mô hình.\n",
    "        Output:\n",
    "            - y_hat: mảng numpy, y_hat.shape = (num_samples,1). Đầu ra dự đoán của mô hình Softmax Regression.\n",
    "        \"\"\"\n",
    "\n",
    "        ### START CODE HERE ### (≈2 lines)\n",
    "        z_apostrophe = self.softmax(x)\n",
    "        y_hat = z_apostrophe/np.reshape(np.sum(z_apostrophe, axis = 1), (len(x),1))\n",
    "        ### END CODE HERE ###\n",
    "        return y_hat\n",
    "\n",
    "\n",
    "    def compute_loss(self, y, y_hat):\n",
    "        \"\"\"TODO 4: Tính giá trị mất mát bằng giá trị output dự đoán y_hat và gía trị được gán nhãn y\n",
    "\n",
    "        Input:\n",
    "            - y: mảng numpy, y.shape = (num_samples, 1). Đầu ra được gán nhãn, ứng với tập dữ liệu hình ảnh đầu vào x.\n",
    "            - y_hat: mảng numpy, y_hat.shape = (num_samples, 1). Đầu ra dự đoán của mô hình Softmax Regression (hàm feed_forward).\n",
    "        Output:\n",
    "            - loss: kiểu float. Là giá trị hàm mất mát ứng với y và y_hat.\n",
    "        \"\"\"\n",
    "        ### START CODE HERE ### (≈3 lines)\n",
    "        loss = -np.mean(np.sum(y*np.log(y_hat)))\n",
    "        ### END CODE HERE ###\n",
    "        return loss\n",
    "\n",
    "\n",
    "    def get_grad(self, x, y, y_hat):\n",
    "        \"\"\"TODO 5: Tính giá trị gradient của trọng số w.\n",
    "        \n",
    "        Input:\n",
    "            - x: mảng numpy, x.shape = (num_samples, num_feat). Là mảng tensor 2D chứa các pixel đầu vào của mô hình.\n",
    "            - y: mảng numpy, y.shape = (num_samples, 1). Đầu ra được gán nhãn, ứng với tập dữ liệu hình ảnh đầu vào x.\n",
    "            - y_hat: mảng numpy, y_hat.shape = (num_samples, 1). Đầu ra dự đoán của mô hình Softmax Regression.\n",
    "        Output:\n",
    "            - w_grad: mảng numpy, w_grad.shape = (num_feat,1). Là giá trị gradient của w, ứng với các giá trị x, y_hat và y.\n",
    "        \"\"\" \n",
    "        ### START CODE HERE ### (≈2 lines)\n",
    "        w_grad = (1/len(y))*np.dot(np.transpose(x), y_hat-y)\n",
    "        ### END CODE HERE ###\n",
    "        return w_grad\n",
    "   \n",
    "\n",
    "    def update_weight(self, grad, learning_rate):\n",
    "        \"\"\"Cập nhật trọng số của mô hình ở mỗi bước. \n",
    "        \n",
    "        Input:\n",
    "            - w_grad: mảng numpy, w_grad.shape = (num_feat,1). Là giá trị gradient của w, ứng với các giá trị x, y_hat và y.\n",
    "            - learning_rate: kiểu float. Là giá trị của siêu tham số tốc độ học. Ảnh hưởng tới mức độ cập nhật tham số ở mỗi bước.\n",
    "        Output:\n",
    "            - self.w: mảng numpy, self.w.shape = (num_feat,1). Giá trị trọng số sau khi được cập nhật của mô hình.\n",
    "        \"\"\"\n",
    "        self.w = self.w - learning_rate*grad \n",
    "        return self.w\n",
    "    \n",
    "    def numerical_check(self, x, y, grad):\n",
    "        i = 3\n",
    "        j = 0\n",
    "        eps = 0.000005\n",
    "        w_test0 = np.copy(self.w)\n",
    "        w_test1 = np.copy(self.w)\n",
    "        w_test0[i,j] = w_test0[i,j] - eps\n",
    "        w_test1[i,j] = w_test1[i,j] + eps\n",
    "\n",
    "        y_hat0 = np.dot(x, w_test0)\n",
    "        y_hat0 = self.softmax(y_hat0)\n",
    "        loss0 = self.compute_loss(y, y_hat0) \n",
    "\n",
    "        y_hat1 = np.dot(x, w_test1)\n",
    "        y_hat1 = self.softmax(y_hat1)\n",
    "        loss1 = self.compute_loss(y, y_hat1) \n",
    "\n",
    "        numerical_grad = (loss1 - loss0)/(2*eps)\n",
    "        print(numerical_grad)\n",
    "        print(grad[i,j])"
   ]
  },
  {
   "cell_type": "code",
   "execution_count": 54,
   "metadata": {
    "colab": {},
    "colab_type": "code",
    "id": "WBaqaYrjinaY"
   },
   "outputs": [],
   "source": [
    "### SANITY CHECK\n",
    "eps = 1e-6        \n",
    "classifier = SoftmaxClassifier((3,1))\n",
    "classifier.w = np.arange(3*1).reshape(3,1)\n",
    "x = np.ones(2*3).reshape(2,3)/2\n",
    "y = np.zeros(2).reshape(2,1)\n",
    "\n",
    "#TODO 2\n",
    "y_hat = classifier.feed_forward(x)\n",
    "# assert np.sum(y_hat)-2 < eps, \"Chưa đúng\"\n",
    "\n",
    "#TODO 3\n",
    "loss = classifier.compute_loss(y, y_hat)\n",
    "assert loss < eps, \"Chưa đúng\"\n",
    "\n",
    "#TODO 4\n",
    "grad = classifier.get_grad(x, y, y_hat)\n",
    "assert np.sum(grad)-1.5 < eps, \"Chưa đúng\"\n",
    "\n",
    "#TODO 5\n",
    "updateweight = classifier.update_weight(grad, 0.1)\n",
    "assert np.sum(updateweight) - 2.85 < 0.01, \"Chưa đúng\""
   ]
  },
  {
   "cell_type": "markdown",
   "metadata": {
    "colab_type": "text",
    "id": "UhI9LGbEoGYo"
   },
   "source": [
    "## Đề xuất điều kiện dùng vòng lặp huấn luyện\n",
    "\n",
    "Trong bài này, ngoài việc sử dụng `train_x`, `train_y` để huấn luyện, file mẫu còn cung cấp cho các bạn các biến `val_x`, `val_y` để thực hiện việc validation. Toàn bộ các giá trị lỗi validation được lưu trong biến `all_val_loss`. Trong phần này, nhiệm vụ của các bạn là đề xuất ra điều kiện dừng khác (ngoài việc `e` đạt `num_epoch`) trong quá trình huấn luyện. Dựa vào độ lỗi validation, bạn có thể sử dụng các tiêu chí mình tự đề ra để tránh việc quá trình huấn luyện bị overfitting."
   ]
  },
  {
   "cell_type": "markdown",
   "metadata": {
    "colab_type": "text",
    "id": "pkfTRTpbtXAO"
   },
   "source": [
    "### TODO 6: is_stop_training (10)\n",
    "Thực hiện hàm `is_stop_training` nhận vào mảng `all_val_loss` và trả về giá trị boolean `True` hoặc `False` quyết định việc có dừng quá trình huấn luyện không. Nếu giá trị loss trên tập validation tăng ít nhất `n` lần liên tiếp thì trả về `True`, ngược lại thì `False`."
   ]
  },
  {
   "cell_type": "code",
   "execution_count": 55,
   "metadata": {
    "colab": {},
    "colab_type": "code",
    "id": "xCnG7E4Ifw4j"
   },
   "outputs": [],
   "source": [
    "# GRADED FUNCTION\n",
    "def is_stop_training(all_val_loss, n=5):\n",
    "    \"\"\"TODO 6: Viết hàm kiểm tra việc có nên dừng qúa trình quyết định hay không.\n",
    "    Input:\n",
    "        - all_val_loss: mảng 1 chiều các giá trị float (python list). Là tập giá trị loss của mô hình trên tập validation.\n",
    "        - n: kiểu số nguyên (int). Là số lần ít nhất mà những giá trị liên tiếp trong all_val_loss tăng dẫn tới việc dừng quá trình huấn luyện.\n",
    "    Output:\n",
    "        - is_stopped: kiểu boolean. Kết quả trả ra của hàm.\n",
    "    \"\"\"\n",
    "    is_stopped = False\n",
    "    ### START CODE HERE ###\n",
    "    count = 0\n",
    "    for i in range (len(all_val_loss)-1):\n",
    "        if all_val_loss[i] < all_val_loss[i+1]:\n",
    "            count += 1\n",
    "            if count == 5:\n",
    "                is_stopped = True\n",
    "                break\n",
    "        else: count = 0\n",
    "    ### END CODE HERE ###\n",
    "    return is_stopped"
   ]
  },
  {
   "cell_type": "code",
   "execution_count": 56,
   "metadata": {
    "colab": {},
    "colab_type": "code",
    "id": "KN4ZrrNbofm8"
   },
   "outputs": [],
   "source": [
    "### SANITY CHECK\n",
    "assert is_stop_training([1, 2, 3, 4, 5, 6]) == True, \"Chưa đúng\"\n",
    "assert is_stop_training([1, 2, 3]) == False, \"Chưa đúng\"\n",
    "assert is_stop_training([1, 2, 3, 4, 5, 4, 5 , 2, 4]) == False, \"Chưa đúng\""
   ]
  },
  {
   "cell_type": "markdown",
   "metadata": {
    "colab_type": "text",
    "id": "IHSHuB-LokPm"
   },
   "source": [
    "## Đánh giá mô hình trên dữ liệu test\n",
    "\n",
    "Để đánh giá mô hình phân loại nhiều lớp, ta cần sử dụng một khái niệm gọi là confusion matrix. Giả sử ta có bài toán phân loại 3 lớp, thì confusion matrix có dạng sau:\n",
    "\n",
    "<table>\n",
    "    <th>\n",
    "        <td>Lớp 1</td>\n",
    "        <td>Lớp 2</td>\n",
    "        <td>Lớp 3</td>\n",
    "    </th>\n",
    "    <tr>\n",
    "        <td>Lớp 1</td>\n",
    "        <td>$N_{11}$</td>\n",
    "        <td>$N_{12}$</td>\n",
    "        <td>$N_{13}$</td>\n",
    "    </tr>\n",
    "    <tr>\n",
    "        <td>Lớp 2</td>\n",
    "        <td>$N_{21}$</td>\n",
    "        <td>$N_{22}$</td>\n",
    "        <td>$N_{23}$</td>\n",
    "    </tr>\n",
    "    <tr>\n",
    "        <td>Lớp 3</td>\n",
    "        <td>$N_{31}$</td>\n",
    "        <td>$N_{32}$</td>\n",
    "        <td>$N_{33}$</td>\n",
    "    </tr>\n",
    "</table>\n",
    "\n",
    "Trong đó, $N_{kl}$ là tổng số mẫu thực chất thuộc lớp $k$ và bộ phân loại phân loại thành lớp $l$ chia cho tổng số mẫu trong lớp k. Bộ phân loại càng tốt thì các ô trên đường chéo chính sẽ càng cao hơn so với các ô xung quanh. Khi tiến hành kiểm thử, người ra đề đã tính được confusion matrix như sau:\n",
    "\n",
    "<table>\n",
    "    <tr>\n",
    "        <td>0.93</td>\n",
    "        <td>0</td>\n",
    "        <td>0</td>\n",
    "        <td>0.02</td>\n",
    "        <td>0</td>\n",
    "        <td>0</td>\n",
    "        <td>0.05</td>\n",
    "        <td>0</td>\n",
    "        <td>0</td>\n",
    "        <td>0</td>\n",
    "    </tr>\n",
    "    <tr>\n",
    "        <td>0</td>\n",
    "        <td>0.95</td>\n",
    "        <td>0</td>\n",
    "        <td>0.05</td>\n",
    "        <td>0</td>\n",
    "        <td>0</td>\n",
    "        <td>0</td>\n",
    "        <td>0</td>\n",
    "        <td>0</td>\n",
    "        <td>0</td>\n",
    "    </tr>\n",
    "    <tr>\n",
    "        <td>0.02</td>\n",
    "        <td>0.02</td>\n",
    "        <td>0.59</td>\n",
    "        <td>0.02</td>\n",
    "        <td>0.22</td>\n",
    "        <td>0</td>\n",
    "        <td>0.13</td>\n",
    "        <td>0</td>\n",
    "        <td>0</td>\n",
    "        <td>0</td>\n",
    "    </tr>\n",
    "    <tr>\n",
    "        <td>0.05</td>\n",
    "        <td>0.03</td>\n",
    "        <td>0.03</td>\n",
    "        <td>0.82</td>\n",
    "        <td>0.05</td>\n",
    "        <td>0</td>\n",
    "        <td>0.03</td>\n",
    "        <td>0</td>\n",
    "        <td>0</td>\n",
    "        <td>0</td>\n",
    "    </tr>\n",
    "    <tr>\n",
    "        <td>0</td>\n",
    "        <td>0</td>\n",
    "        <td>0.07</td>\n",
    "        <td>0.05</td>\n",
    "        <td>0.77</td>\n",
    "        <td>0</td>\n",
    "        <td>0.12</td>\n",
    "        <td>0</td>\n",
    "        <td>0</td>\n",
    "        <td>0</td>\n",
    "    </tr>\n",
    "    <tr>\n",
    "        <td>0</td>\n",
    "        <td>0</td>\n",
    "        <td>0</td>\n",
    "        <td>0</td>\n",
    "        <td>0</td>\n",
    "        <td>0.89</td>\n",
    "        <td>0</td>\n",
    "        <td>0.09</td>\n",
    "        <td>0.02</td>\n",
    "        <td>0</td>\n",
    "    </tr>\n",
    "    <tr>\n",
    "        <td>0.21</td>\n",
    "        <td>0</td>\n",
    "        <td>0.08</td>\n",
    "        <td>0.02</td>\n",
    "        <td>0.17</td>\n",
    "        <td>0</td>\n",
    "        <td>0.51</td>\n",
    "        <td>0</td>\n",
    "        <td>0.02</td>\n",
    "        <td>0</td>\n",
    "    </tr>\n",
    "    <tr>\n",
    "        <td>0</td>\n",
    "        <td>0</td>\n",
    "        <td>0</td>\n",
    "        <td>0</td>\n",
    "        <td>0</td>\n",
    "        <td>0.04</td>\n",
    "        <td>0</td>\n",
    "        <td>0.86</td>\n",
    "        <td>0</td>\n",
    "        <td>0.1</td>\n",
    "    </tr>\n",
    "    <tr>\n",
    "        <td>0</td>\n",
    "        <td>0</td>\n",
    "        <td>0</td>\n",
    "        <td>0.02</td>\n",
    "        <td>0</td>\n",
    "        <td>0.04</td>\n",
    "        <td>0</td>\n",
    "        <td>0.02</td>\n",
    "        <td>0.93</td>\n",
    "        <td>0</td>\n",
    "    </tr>\n",
    "    <tr>\n",
    "        <td>0</td>\n",
    "        <td>0</td>\n",
    "        <td>0</td>\n",
    "        <td>0</td>\n",
    "        <td>0</td>\n",
    "        <td>0.02</td>\n",
    "        <td>0</td>\n",
    "        <td>0</td>\n",
    "        <td>0</td>\n",
    "        <td>0.98</td>\n",
    "    </tr>\n",
    "</table>\n",
    "\n",
    "Bạn cần đạt được kết quả tương tự hoặc tốt hơn sau khi hoàn tất bài tập 2 này."
   ]
  },
  {
   "cell_type": "markdown",
   "metadata": {
    "colab_type": "text",
    "id": "GWTxRxc-ouFq"
   },
   "source": [
    "### TODO 7: softmax_test (20)"
   ]
  },
  {
   "cell_type": "code",
   "execution_count": 57,
   "metadata": {
    "colab": {},
    "colab_type": "code",
    "id": "K_NDwfLpohfW"
   },
   "outputs": [],
   "source": [
    "# GRADED FUNCTION\n",
    "from sklearn.metrics import confusion_matrix\n",
    "def softmax_test(y_hat, y):\n",
    "    \"\"\"TODO 7: Tính confusion matrix dựa vào kết quả dự đoán của mô hình y_hat và giá trị thực tế y\n",
    "   \n",
    "    Input:\n",
    "        - y_hat: mảng numpy, y_hat.shape = (num_samples, num_classes). Đầu ra dự đoán của mô hình Softmax Regression (hàm feed_forward).\n",
    "        - y: mảng numpy, y.shape = (num_samples, num_classes). Đầu ra được gán nhãn, ứng với tập dữ liệu hình ảnh đầu vào x.\n",
    "    Output:\n",
    "        - confusion_mat: mảng numpy, confusion_mat.shape = (num_classes,num_classes). Ma trận confusion của kết quả dự đoán.\n",
    "    \"\"\"\n",
    "\n",
    "    num_classes = y_hat.shape[1]\n",
    "    y_hat = np.argmax(y_hat, axis=1)\n",
    "    y = np.argmax(y, axis=1)\n",
    "    ### START CODE HERE ###\n",
    "    classes = np.unique(y)\n",
    "    confusion_mat = np.zeros((len(classes), len(classes)))\n",
    "\n",
    "    for i in range(len(classes)):\n",
    "        for j in range(len(classes)):\n",
    "           confusion_mat[i, j] = np.sum((y == classes[i]) & (y_hat == classes[j]))\n",
    "\n",
    "    confusion_mat = confusion_mat/np.sum(confusion_mat, axis = 1)\n",
    "    ### END CODE HERE ###\n",
    "    return confusion_mat"
   ]
  },
  {
   "cell_type": "code",
   "execution_count": 58,
   "metadata": {
    "colab": {},
    "colab_type": "code",
    "id": "Kgp4cAjEo7PM"
   },
   "outputs": [],
   "source": [
    "#SANITY CHECK\n",
    "y_hat = np.eye(20, 10)\n",
    "y = y_hat > 0.5\n",
    "assert np.trace(softmax_test(y_hat, y)) == 10, \"Chưa đúng\""
   ]
  },
  {
   "cell_type": "markdown",
   "metadata": {
    "colab_type": "text",
    "id": "mP8dZfG0o_pP"
   },
   "source": [
    "## Vòng lặp huấn luyện"
   ]
  },
  {
   "cell_type": "markdown",
   "metadata": {},
   "source": [
    "Các hàm vẽ biểu đồ minh hoạ"
   ]
  },
  {
   "cell_type": "code",
   "execution_count": 59,
   "metadata": {
    "colab": {},
    "colab_type": "code",
    "id": "QhINMd-tpCb4"
   },
   "outputs": [],
   "source": [
    "def plot_softmax_loss(train_loss, val_loss):\n",
    "    plt.figure(1)\n",
    "    plt.clf()\n",
    "    plt.plot(train_loss, color='b')\n",
    "    plt.plot(val_loss, color='g')\n",
    "\n",
    "\n",
    "def draw_weight(w):\n",
    "    label_names = ['T-shirt', 'Trouser', 'Pullover', 'Dress', 'Coat', 'Sandal', 'Shirt', 'Sneaker', 'Bag', 'Ankle boot']\n",
    "    plt.figure(2, figsize=(8, 6))\n",
    "    plt.clf()\n",
    "    w = w[0:(28*28),:].reshape(28, 28, 10)\n",
    "    for i in range(10):\n",
    "        ax = plt.subplot(3, 4, i+1)\n",
    "        plt.imshow(w[:,:,i], interpolation='nearest')\n",
    "        plt.axis('off')\n",
    "        ax.set_title(label_names[i])"
   ]
  },
  {
   "cell_type": "code",
   "execution_count": 60,
   "metadata": {},
   "outputs": [],
   "source": [
    "# Khai báo các siêu tham số\n",
    "#@title Training { display-mode: \"both\" }\n",
    "num_epoch = 10000 #@param {type:\"integer\"}\n",
    "learning_rate = 0.01 #@param {type:\"number\"}\n",
    "momentum_rate = 0.9 #@param {type:\"number\"}\n",
    "epochs_to_draw = 500 #@param {type:\"integer\"}\n",
    "np.random.seed(2020)"
   ]
  },
  {
   "cell_type": "code",
   "execution_count": null,
   "metadata": {
    "colab": {
     "base_uri": "https://localhost:8080/",
     "height": 859
    },
    "colab_type": "code",
    "id": "JJu8r-owo70a",
    "outputId": "33dd560d-6a21-4428-b9ed-25fa768ee7a4"
   },
   "outputs": [],
   "source": [
    "# Chuyển dữ liệu nhãn sang dạng one-hot vector.\n",
    "\n",
    "train_y = create_one_hot(train_y.astype(int))\n",
    "val_y = create_one_hot(val_y.astype(int))\n",
    "test_y = create_one_hot(test_y.astype(int))\n",
    "\n",
    "\n",
    "# Chuẩn hoá dữ liệu\n",
    "train_x, val_x, test_x = normalize(train_x, val_x, test_x)\n",
    "\n",
    "\n",
    "# Thêm giá trị 1.0 như feature cuối cùng của train_x và test_x\n",
    "train_x = add_one(train_x) \n",
    "val_x = add_one(val_x)\n",
    "test_x = add_one(test_x)\n",
    "\n",
    "\n",
    "# Tạo classifier\n",
    "num_feature = train_x.shape[1]\n",
    "dec_classifier = SoftmaxClassifier((num_feature, 10))\n",
    "momentum = np.zeros_like(dec_classifier.w)\n",
    "\n",
    "\n",
    "# Huấn luyện mô hình\n",
    "all_train_loss = []\n",
    "all_val_loss = []\n",
    "plt.ion()\n",
    "\n",
    "for e in range(num_epoch):    \n",
    "    \n",
    "    # Tính giá trị đầu ra dự đoán\n",
    "    train_y_hat = dec_classifier.feed_forward(train_x)\n",
    "    val_y_hat = dec_classifier.feed_forward(val_x)\n",
    "\n",
    "    \n",
    "    # Tính giá trị loss với đầu ra dự đoán\n",
    "    train_loss = dec_classifier.compute_loss(train_y, train_y_hat)\n",
    "    val_loss = dec_classifier.compute_loss(val_y, val_y_hat)\n",
    "\n",
    "    \n",
    "    # Tính giá trị gradient cho trọng số\n",
    "    grad = dec_classifier.get_grad(train_x, train_y, train_y_hat)\n",
    "\n",
    "    \n",
    "    # Cập nhật trọng số weight\n",
    "    dec_classifier.update_weight(grad, learning_rate)\n",
    "\n",
    "    \n",
    "    all_train_loss.append(train_loss) \n",
    "    all_val_loss.append(val_loss)\n",
    "    \n",
    "    # Sử dụng hàm kiểm tra để dừng quá trình huấn luyện\n",
    "    if is_stop_training(all_val_loss):\n",
    "        break\n",
    "\n",
    "    if (e % epochs_to_draw == epochs_to_draw-1):\n",
    "        # from IPython.display import clear_output\n",
    "        # clear_output(wait=True)\n",
    "        # plot_softmax_loss(all_train_loss, all_val_loss)\n",
    "        # draw_weight(dec_classifier.w)\n",
    "        # plt.show()\n",
    "        # plt.pause(0.1) \n",
    "        print(\"Epoch %d: train loss: %.5f || val loss: %.5f\" % (e+1, train_loss, val_loss))\n",
    "\n",
    "\n",
    "# Đánh giá mô hình trên tập test set.\n",
    "y_hat = dec_classifier.feed_forward(test_x)\n",
    "np.set_printoptions(precision=2)\n",
    "confusion_mat = softmax_test(y_hat, test_y)\n",
    "\n",
    "print('Confusion matrix:')\n",
    "print(confusion_mat)\n",
    "print('Diagonal values:')\n",
    "print(confusion_mat.flatten()[0::11])"
   ]
  },
  {
   "cell_type": "code",
   "execution_count": null,
   "metadata": {},
   "outputs": [
    {
     "data": {
      "image/png": "[encoded data removed]",
      "text/plain": [
       "<Figure size 640x480 with 1 Axes>"
      ]
     },
     "metadata": {},
     "output_type": "display_data"
    },
    {
     "data": {
      "image/png": "[encoded data removed]",
      "text/plain": [
       "<Figure size 800x600 with 10 Axes>"
      ]
     },
     "metadata": {},
     "output_type": "display_data"
    }
   ],
   "source": [
    "from IPython.display import clear_output\n",
    "\n",
    "plot_softmax_loss(all_train_loss, all_val_loss)\n",
    "draw_weight(dec_classifier.w)\n",
    "plt.show()"
   ]
  },
  {
   "cell_type": "markdown",
   "metadata": {
    "colab_type": "text",
    "id": "xNw0WgOopprp"
   },
   "source": [
    "## Class SoftmaxRegressionTF bằng Tensorflow\n",
    "\n",
    "Tại đây, các bạn cần định nghĩa mô hình SoftmaxRegressionTF."
   ]
  },
  {
   "cell_type": "markdown",
   "metadata": {
    "colab_type": "text",
    "id": "9Fbjy5EMqbol"
   },
   "source": [
    "### Optional TODO 8: init (10) + call (10)\n",
    "Các bạn cần khởi tạo tất cả các trọng số ở hàm `init` và `call` của lớp `SoftmaxRegressionTF`. Để tiện cho việc chấm bài, các bạn vui lòng set `kernel_initializer=tf.keras.initializers.RandomNormal(seed=2020)` khi init weights. Nếu bạn không cài đặt `kernel_initializer` như yêu cầu, bạn sẽ bị mất điểm cho TODO 8 này."
   ]
  },
  {
   "cell_type": "code",
   "execution_count": 93,
   "metadata": {
    "colab": {},
    "colab_type": "code",
    "id": "uforIT1NpG08"
   },
   "outputs": [],
   "source": [
    "# GRADED FUNCTION\n",
    "class SoftmaxRegressionTF(tf.keras.Model):\n",
    "    def __init__(self, num_class):\n",
    "        super(SoftmaxRegressionTF, self).__init__()\n",
    "        \"\"\" TODO 8.1: Khởi tạo mô hình cùng trọng số của mô hình. Sử dụng hàm tf.keras.layers.dense\n",
    "        Xem thêm ở: https://www.tensorflow.org/api_docs/python/tf/keras/layers/Dense\n",
    "        \n",
    "        Input:\n",
    "            - num_class: Số lượng class của dữ liệu.\n",
    "        \"\"\" \n",
    "        ### START CODE HERE ###\n",
    "        kernel_initializer = tf.keras.initializers.RandomNormal(seed=2020)\n",
    "        self.dense = tf.keras.layers.Dense(num_class, activation=tf.nn.softmax)\n",
    "        self.dropout = tf.keras.layers.Dropout(0.2)\n",
    "        ### END CODE HERE ###\n",
    "\n",
    "    def call(self, inputs, training=None, mask=None):\n",
    "        \"\"\" TODO 8.2: Sử dụng mô hình được định nghĩa ở TODO 8.1, tính giá trị output của mô hình.\n",
    "        \"\"\"\n",
    "        ### START CODE HERE ###\n",
    "        output = self.dense(inputs)\n",
    "        tf.reduce_sum(output[0, :]) \n",
    "        ### END CODE HERE ###\n",
    "        try:\n",
    "          output = tf.nn.softmax(output)\n",
    "        except: # if softmax op does not exist on the gpu\n",
    "          with tf.device('/cpu:0'):\n",
    "              output = tf.nn.softmax(output) \n",
    "\n",
    "        return output"
   ]
  },
  {
   "cell_type": "code",
   "execution_count": 94,
   "metadata": {
    "colab": {},
    "colab_type": "code",
    "id": "YCYLggEQqXNX"
   },
   "outputs": [],
   "source": [
    "### SANITY CHECK\n",
    "from turtle import shape\n",
    "\n",
    "\n",
    "num_classes = 10\n",
    "logistic_regressor = SoftmaxRegressionTF(num_classes)\n",
    "dummy_x = tf.zeros((1, 13))\n",
    "assert logistic_regressor(dummy_x).numpy().sum() == 1, \"Chưa đúng\""
   ]
  },
  {
   "cell_type": "markdown",
   "metadata": {
    "colab_type": "text",
    "id": "xkX_B6GNrbrl"
   },
   "source": [
    "## Huấn luyện với tensorflow"
   ]
  },
  {
   "cell_type": "code",
   "execution_count": 95,
   "metadata": {},
   "outputs": [],
   "source": [
    "# Khai báo các siêu tham số\n",
    "#@title Training { display-mode: \"both\" }\n",
    "num_epoch = 100 #@param {type:\"integer\"}\n",
    "learning_rate = 0.001 #@param {type:\"number\"}\n",
    "batch_size = 32 #@param {type:\"number\"}\n",
    "num_classes = 10\n",
    "\n",
    "np.random.seed(2020)"
   ]
  },
  {
   "cell_type": "code",
   "execution_count": 96,
   "metadata": {},
   "outputs": [
    {
     "name": "stdout",
     "output_type": "stream",
     "text": [
      "Reading fashion MNIST data...\n",
      "(2500, 784)\n",
      "(500, 784)\n",
      "(500, 784)\n",
      "(2500,)\n",
      "(500,)\n",
      "(500,)\n"
     ]
    }
   ],
   "source": [
    "# Load lại dữ liệu\n",
    "train_x, train_y, val_x, val_y, test_x, test_y = get_mnist_data()\n",
    "\n",
    "print(np.shape(train_x))\n",
    "print(np.shape(val_x))\n",
    "print(np.shape(test_x))\n",
    "print(np.shape(train_y))\n",
    "print(np.shape(val_y))\n",
    "print(np.shape(test_y))\n"
   ]
  },
  {
   "cell_type": "code",
   "execution_count": 97,
   "metadata": {
    "colab": {
     "base_uri": "https://localhost:8080/",
     "height": 1000
    },
    "colab_type": "code",
    "id": "6yiZR-QvrRC2",
    "outputId": "1b784930-1949-4d9e-92f6-2d4708ab6f32"
   },
   "outputs": [
    {
     "name": "stdout",
     "output_type": "stream",
     "text": [
      "Epoch 1/100\n",
      "79/79 - 1s - loss: 0.2790 - accuracy: 0.5748 - val_loss: 0.2652 - val_accuracy: 0.6920 - 1s/epoch - 13ms/step\n",
      "Epoch 2/100\n",
      "79/79 - 0s - loss: 0.2599 - accuracy: 0.7404 - val_loss: 0.2595 - val_accuracy: 0.7460 - 176ms/epoch - 2ms/step\n",
      "Epoch 3/100\n",
      "79/79 - 0s - loss: 0.2559 - accuracy: 0.7720 - val_loss: 0.2580 - val_accuracy: 0.7520 - 224ms/epoch - 3ms/step\n",
      "Epoch 4/100\n",
      "79/79 - 0s - loss: 0.2535 - accuracy: 0.7984 - val_loss: 0.2558 - val_accuracy: 0.7720 - 210ms/epoch - 3ms/step\n",
      "Epoch 5/100\n",
      "79/79 - 0s - loss: 0.2509 - accuracy: 0.8152 - val_loss: 0.2539 - val_accuracy: 0.7860 - 195ms/epoch - 2ms/step\n",
      "Epoch 6/100\n",
      "79/79 - 0s - loss: 0.2491 - accuracy: 0.8348 - val_loss: 0.2540 - val_accuracy: 0.7680 - 179ms/epoch - 2ms/step\n",
      "Epoch 7/100\n",
      "79/79 - 0s - loss: 0.2479 - accuracy: 0.8416 - val_loss: 0.2522 - val_accuracy: 0.7980 - 180ms/epoch - 2ms/step\n",
      "Epoch 8/100\n",
      "79/79 - 0s - loss: 0.2470 - accuracy: 0.8464 - val_loss: 0.2520 - val_accuracy: 0.8020 - 183ms/epoch - 2ms/step\n",
      "Epoch 9/100\n",
      "79/79 - 0s - loss: 0.2461 - accuracy: 0.8552 - val_loss: 0.2519 - val_accuracy: 0.7940 - 168ms/epoch - 2ms/step\n",
      "Epoch 10/100\n",
      "79/79 - 0s - loss: 0.2454 - accuracy: 0.8592 - val_loss: 0.2519 - val_accuracy: 0.8000 - 134ms/epoch - 2ms/step\n",
      "Epoch 11/100\n",
      "79/79 - 0s - loss: 0.2451 - accuracy: 0.8604 - val_loss: 0.2509 - val_accuracy: 0.8140 - 158ms/epoch - 2ms/step\n",
      "Epoch 12/100\n",
      "79/79 - 0s - loss: 0.2444 - accuracy: 0.8676 - val_loss: 0.2513 - val_accuracy: 0.7960 - 140ms/epoch - 2ms/step\n",
      "Epoch 13/100\n",
      "79/79 - 0s - loss: 0.2439 - accuracy: 0.8712 - val_loss: 0.2512 - val_accuracy: 0.8040 - 158ms/epoch - 2ms/step\n",
      "Epoch 14/100\n",
      "79/79 - 0s - loss: 0.2435 - accuracy: 0.8740 - val_loss: 0.2508 - val_accuracy: 0.8000 - 151ms/epoch - 2ms/step\n",
      "Epoch 15/100\n",
      "79/79 - 0s - loss: 0.2432 - accuracy: 0.8740 - val_loss: 0.2511 - val_accuracy: 0.7980 - 157ms/epoch - 2ms/step\n",
      "Epoch 16/100\n",
      "79/79 - 0s - loss: 0.2428 - accuracy: 0.8796 - val_loss: 0.2507 - val_accuracy: 0.8040 - 148ms/epoch - 2ms/step\n",
      "Epoch 17/100\n",
      "79/79 - 0s - loss: 0.2425 - accuracy: 0.8808 - val_loss: 0.2503 - val_accuracy: 0.7980 - 165ms/epoch - 2ms/step\n",
      "Epoch 18/100\n",
      "79/79 - 0s - loss: 0.2423 - accuracy: 0.8840 - val_loss: 0.2503 - val_accuracy: 0.8120 - 148ms/epoch - 2ms/step\n",
      "Epoch 19/100\n",
      "79/79 - 0s - loss: 0.2419 - accuracy: 0.8860 - val_loss: 0.2508 - val_accuracy: 0.7960 - 155ms/epoch - 2ms/step\n",
      "Epoch 20/100\n",
      "79/79 - 0s - loss: 0.2418 - accuracy: 0.8856 - val_loss: 0.2502 - val_accuracy: 0.8040 - 159ms/epoch - 2ms/step\n",
      "Epoch 21/100\n",
      "79/79 - 0s - loss: 0.2412 - accuracy: 0.8924 - val_loss: 0.2503 - val_accuracy: 0.8000 - 152ms/epoch - 2ms/step\n",
      "Epoch 22/100\n",
      "79/79 - 0s - loss: 0.2412 - accuracy: 0.8896 - val_loss: 0.2507 - val_accuracy: 0.8020 - 150ms/epoch - 2ms/step\n",
      "Epoch 23/100\n",
      "79/79 - 0s - loss: 0.2408 - accuracy: 0.8960 - val_loss: 0.2497 - val_accuracy: 0.8100 - 157ms/epoch - 2ms/step\n",
      "Epoch 24/100\n",
      "79/79 - 0s - loss: 0.2405 - accuracy: 0.8980 - val_loss: 0.2499 - val_accuracy: 0.8120 - 164ms/epoch - 2ms/step\n",
      "Epoch 25/100\n",
      "79/79 - 0s - loss: 0.2405 - accuracy: 0.8992 - val_loss: 0.2501 - val_accuracy: 0.8100 - 160ms/epoch - 2ms/step\n",
      "Epoch 26/100\n",
      "79/79 - 0s - loss: 0.2405 - accuracy: 0.8940 - val_loss: 0.2494 - val_accuracy: 0.8160 - 166ms/epoch - 2ms/step\n",
      "Epoch 27/100\n",
      "79/79 - 0s - loss: 0.2402 - accuracy: 0.8980 - val_loss: 0.2491 - val_accuracy: 0.8260 - 147ms/epoch - 2ms/step\n",
      "Epoch 28/100\n",
      "79/79 - 0s - loss: 0.2401 - accuracy: 0.8984 - val_loss: 0.2492 - val_accuracy: 0.8240 - 155ms/epoch - 2ms/step\n",
      "Epoch 29/100\n",
      "79/79 - 0s - loss: 0.2396 - accuracy: 0.9000 - val_loss: 0.2491 - val_accuracy: 0.8240 - 156ms/epoch - 2ms/step\n",
      "Epoch 30/100\n",
      "79/79 - 0s - loss: 0.2396 - accuracy: 0.9036 - val_loss: 0.2492 - val_accuracy: 0.8220 - 166ms/epoch - 2ms/step\n",
      "Epoch 31/100\n",
      "79/79 - 0s - loss: 0.2392 - accuracy: 0.9056 - val_loss: 0.2499 - val_accuracy: 0.8100 - 159ms/epoch - 2ms/step\n",
      "Epoch 32/100\n",
      "79/79 - 0s - loss: 0.2391 - accuracy: 0.9072 - val_loss: 0.2493 - val_accuracy: 0.8240 - 169ms/epoch - 2ms/step\n",
      "Epoch 33/100\n",
      "79/79 - 0s - loss: 0.2391 - accuracy: 0.9068 - val_loss: 0.2491 - val_accuracy: 0.8160 - 174ms/epoch - 2ms/step\n",
      "Epoch 34/100\n",
      "79/79 - 0s - loss: 0.2388 - accuracy: 0.9104 - val_loss: 0.2491 - val_accuracy: 0.8200 - 144ms/epoch - 2ms/step\n",
      "Epoch 35/100\n",
      "79/79 - 0s - loss: 0.2390 - accuracy: 0.9080 - val_loss: 0.2492 - val_accuracy: 0.8180 - 169ms/epoch - 2ms/step\n",
      "Epoch 36/100\n",
      "79/79 - 0s - loss: 0.2385 - accuracy: 0.9120 - val_loss: 0.2491 - val_accuracy: 0.8280 - 156ms/epoch - 2ms/step\n",
      "Epoch 37/100\n",
      "79/79 - 0s - loss: 0.2383 - accuracy: 0.9148 - val_loss: 0.2496 - val_accuracy: 0.8040 - 150ms/epoch - 2ms/step\n",
      "Epoch 38/100\n",
      "79/79 - 0s - loss: 0.2383 - accuracy: 0.9120 - val_loss: 0.2488 - val_accuracy: 0.8160 - 144ms/epoch - 2ms/step\n",
      "Epoch 39/100\n",
      "79/79 - 0s - loss: 0.2384 - accuracy: 0.9104 - val_loss: 0.2491 - val_accuracy: 0.8160 - 155ms/epoch - 2ms/step\n",
      "Epoch 40/100\n",
      "79/79 - 0s - loss: 0.2380 - accuracy: 0.9144 - val_loss: 0.2489 - val_accuracy: 0.8160 - 164ms/epoch - 2ms/step\n",
      "Epoch 41/100\n",
      "79/79 - 0s - loss: 0.2379 - accuracy: 0.9164 - val_loss: 0.2490 - val_accuracy: 0.8180 - 168ms/epoch - 2ms/step\n",
      "Epoch 42/100\n",
      "79/79 - 0s - loss: 0.2376 - accuracy: 0.9188 - val_loss: 0.2492 - val_accuracy: 0.8060 - 149ms/epoch - 2ms/step\n",
      "Epoch 43/100\n",
      "79/79 - 0s - loss: 0.2375 - accuracy: 0.9192 - val_loss: 0.2486 - val_accuracy: 0.8240 - 164ms/epoch - 2ms/step\n",
      "Epoch 44/100\n",
      "79/79 - 0s - loss: 0.2375 - accuracy: 0.9180 - val_loss: 0.2485 - val_accuracy: 0.8200 - 149ms/epoch - 2ms/step\n",
      "Epoch 45/100\n",
      "79/79 - 0s - loss: 0.2372 - accuracy: 0.9208 - val_loss: 0.2486 - val_accuracy: 0.8160 - 154ms/epoch - 2ms/step\n",
      "Epoch 46/100\n",
      "79/79 - 0s - loss: 0.2373 - accuracy: 0.9200 - val_loss: 0.2483 - val_accuracy: 0.8220 - 146ms/epoch - 2ms/step\n",
      "Epoch 47/100\n",
      "79/79 - 0s - loss: 0.2372 - accuracy: 0.9204 - val_loss: 0.2486 - val_accuracy: 0.8200 - 156ms/epoch - 2ms/step\n",
      "Epoch 48/100\n",
      "79/79 - 0s - loss: 0.2372 - accuracy: 0.9188 - val_loss: 0.2486 - val_accuracy: 0.8200 - 149ms/epoch - 2ms/step\n",
      "Epoch 49/100\n",
      "79/79 - 0s - loss: 0.2369 - accuracy: 0.9216 - val_loss: 0.2486 - val_accuracy: 0.8240 - 158ms/epoch - 2ms/step\n",
      "Epoch 50/100\n",
      "79/79 - 0s - loss: 0.2370 - accuracy: 0.9216 - val_loss: 0.2492 - val_accuracy: 0.8160 - 150ms/epoch - 2ms/step\n",
      "Epoch 51/100\n",
      "79/79 - 0s - loss: 0.2370 - accuracy: 0.9220 - val_loss: 0.2485 - val_accuracy: 0.8180 - 156ms/epoch - 2ms/step\n",
      "Epoch 52/100\n",
      "79/79 - 0s - loss: 0.2367 - accuracy: 0.9244 - val_loss: 0.2484 - val_accuracy: 0.8200 - 153ms/epoch - 2ms/step\n",
      "Epoch 53/100\n",
      "79/79 - 0s - loss: 0.2376 - accuracy: 0.9168 - val_loss: 0.2488 - val_accuracy: 0.8180 - 153ms/epoch - 2ms/step\n",
      "Epoch 54/100\n",
      "79/79 - 0s - loss: 0.2368 - accuracy: 0.9244 - val_loss: 0.2489 - val_accuracy: 0.8140 - 156ms/epoch - 2ms/step\n",
      "Epoch 55/100\n",
      "79/79 - 0s - loss: 0.2364 - accuracy: 0.9260 - val_loss: 0.2485 - val_accuracy: 0.8220 - 155ms/epoch - 2ms/step\n",
      "Epoch 56/100\n",
      "79/79 - 0s - loss: 0.2364 - accuracy: 0.9256 - val_loss: 0.2485 - val_accuracy: 0.8180 - 157ms/epoch - 2ms/step\n",
      "Epoch 57/100\n",
      "79/79 - 0s - loss: 0.2362 - accuracy: 0.9280 - val_loss: 0.2489 - val_accuracy: 0.8180 - 164ms/epoch - 2ms/step\n",
      "Epoch 58/100\n",
      "79/79 - 0s - loss: 0.2362 - accuracy: 0.9272 - val_loss: 0.2487 - val_accuracy: 0.8200 - 161ms/epoch - 2ms/step\n",
      "Epoch 59/100\n",
      "79/79 - 0s - loss: 0.2361 - accuracy: 0.9272 - val_loss: 0.2487 - val_accuracy: 0.8140 - 158ms/epoch - 2ms/step\n",
      "Epoch 60/100\n",
      "79/79 - 0s - loss: 0.2363 - accuracy: 0.9260 - val_loss: 0.2485 - val_accuracy: 0.8220 - 156ms/epoch - 2ms/step\n",
      "Epoch 61/100\n",
      "79/79 - 0s - loss: 0.2360 - accuracy: 0.9272 - val_loss: 0.2481 - val_accuracy: 0.8260 - 152ms/epoch - 2ms/step\n",
      "Epoch 62/100\n",
      "79/79 - 0s - loss: 0.2360 - accuracy: 0.9284 - val_loss: 0.2483 - val_accuracy: 0.8220 - 152ms/epoch - 2ms/step\n",
      "Epoch 63/100\n",
      "79/79 - 0s - loss: 0.2359 - accuracy: 0.9280 - val_loss: 0.2482 - val_accuracy: 0.8300 - 148ms/epoch - 2ms/step\n",
      "Epoch 64/100\n",
      "79/79 - 0s - loss: 0.2360 - accuracy: 0.9272 - val_loss: 0.2484 - val_accuracy: 0.8200 - 147ms/epoch - 2ms/step\n",
      "Epoch 65/100\n",
      "79/79 - 0s - loss: 0.2358 - accuracy: 0.9288 - val_loss: 0.2482 - val_accuracy: 0.8260 - 153ms/epoch - 2ms/step\n",
      "Epoch 66/100\n",
      "79/79 - 0s - loss: 0.2358 - accuracy: 0.9288 - val_loss: 0.2483 - val_accuracy: 0.8180 - 148ms/epoch - 2ms/step\n",
      "Epoch 67/100\n",
      "79/79 - 0s - loss: 0.2358 - accuracy: 0.9296 - val_loss: 0.2484 - val_accuracy: 0.8200 - 143ms/epoch - 2ms/step\n",
      "Epoch 68/100\n",
      "79/79 - 0s - loss: 0.2357 - accuracy: 0.9288 - val_loss: 0.2485 - val_accuracy: 0.8260 - 144ms/epoch - 2ms/step\n",
      "Epoch 69/100\n",
      "79/79 - 0s - loss: 0.2357 - accuracy: 0.9288 - val_loss: 0.2484 - val_accuracy: 0.8220 - 160ms/epoch - 2ms/step\n",
      "Epoch 70/100\n",
      "79/79 - 0s - loss: 0.2356 - accuracy: 0.9304 - val_loss: 0.2486 - val_accuracy: 0.8240 - 154ms/epoch - 2ms/step\n",
      "Epoch 71/100\n",
      "79/79 - 0s - loss: 0.2357 - accuracy: 0.9292 - val_loss: 0.2488 - val_accuracy: 0.8220 - 152ms/epoch - 2ms/step\n",
      "Epoch 72/100\n",
      "79/79 - 0s - loss: 0.2356 - accuracy: 0.9304 - val_loss: 0.2486 - val_accuracy: 0.8240 - 152ms/epoch - 2ms/step\n",
      "Epoch 73/100\n",
      "79/79 - 0s - loss: 0.2358 - accuracy: 0.9292 - val_loss: 0.2485 - val_accuracy: 0.8220 - 153ms/epoch - 2ms/step\n",
      "Epoch 74/100\n",
      "79/79 - 0s - loss: 0.2355 - accuracy: 0.9308 - val_loss: 0.2485 - val_accuracy: 0.8160 - 156ms/epoch - 2ms/step\n",
      "Epoch 75/100\n",
      "79/79 - 0s - loss: 0.2356 - accuracy: 0.9292 - val_loss: 0.2485 - val_accuracy: 0.8220 - 154ms/epoch - 2ms/step\n",
      "Epoch 76/100\n",
      "79/79 - 0s - loss: 0.2353 - accuracy: 0.9312 - val_loss: 0.2484 - val_accuracy: 0.8240 - 151ms/epoch - 2ms/step\n",
      "Epoch 77/100\n",
      "79/79 - 0s - loss: 0.2353 - accuracy: 0.9320 - val_loss: 0.2483 - val_accuracy: 0.8220 - 153ms/epoch - 2ms/step\n",
      "Epoch 78/100\n",
      "79/79 - 0s - loss: 0.2353 - accuracy: 0.9312 - val_loss: 0.2489 - val_accuracy: 0.8180 - 153ms/epoch - 2ms/step\n",
      "Epoch 79/100\n",
      "79/79 - 0s - loss: 0.2354 - accuracy: 0.9320 - val_loss: 0.2490 - val_accuracy: 0.8100 - 156ms/epoch - 2ms/step\n",
      "Epoch 80/100\n",
      "79/79 - 0s - loss: 0.2352 - accuracy: 0.9324 - val_loss: 0.2484 - val_accuracy: 0.8240 - 153ms/epoch - 2ms/step\n",
      "Epoch 81/100\n",
      "79/79 - 0s - loss: 0.2351 - accuracy: 0.9324 - val_loss: 0.2488 - val_accuracy: 0.8180 - 154ms/epoch - 2ms/step\n",
      "Epoch 82/100\n",
      "79/79 - 0s - loss: 0.2351 - accuracy: 0.9328 - val_loss: 0.2485 - val_accuracy: 0.8240 - 148ms/epoch - 2ms/step\n",
      "Epoch 83/100\n",
      "79/79 - 0s - loss: 0.2351 - accuracy: 0.9332 - val_loss: 0.2488 - val_accuracy: 0.8120 - 163ms/epoch - 2ms/step\n",
      "Epoch 84/100\n",
      "79/79 - 0s - loss: 0.2350 - accuracy: 0.9332 - val_loss: 0.2493 - val_accuracy: 0.8080 - 188ms/epoch - 2ms/step\n",
      "Epoch 85/100\n",
      "79/79 - 0s - loss: 0.2350 - accuracy: 0.9328 - val_loss: 0.2486 - val_accuracy: 0.8160 - 183ms/epoch - 2ms/step\n",
      "Epoch 86/100\n",
      "79/79 - 0s - loss: 0.2352 - accuracy: 0.9324 - val_loss: 0.2483 - val_accuracy: 0.8240 - 160ms/epoch - 2ms/step\n",
      "Epoch 87/100\n",
      "79/79 - 0s - loss: 0.2349 - accuracy: 0.9328 - val_loss: 0.2487 - val_accuracy: 0.8120 - 163ms/epoch - 2ms/step\n",
      "Epoch 88/100\n",
      "79/79 - 0s - loss: 0.2349 - accuracy: 0.9348 - val_loss: 0.2490 - val_accuracy: 0.8120 - 155ms/epoch - 2ms/step\n",
      "Epoch 89/100\n",
      "79/79 - 0s - loss: 0.2349 - accuracy: 0.9340 - val_loss: 0.2485 - val_accuracy: 0.8100 - 160ms/epoch - 2ms/step\n",
      "Epoch 90/100\n",
      "79/79 - 0s - loss: 0.2349 - accuracy: 0.9348 - val_loss: 0.2486 - val_accuracy: 0.8200 - 154ms/epoch - 2ms/step\n",
      "Epoch 91/100\n",
      "79/79 - 0s - loss: 0.2348 - accuracy: 0.9340 - val_loss: 0.2489 - val_accuracy: 0.8080 - 147ms/epoch - 2ms/step\n",
      "Epoch 92/100\n",
      "79/79 - 0s - loss: 0.2348 - accuracy: 0.9356 - val_loss: 0.2485 - val_accuracy: 0.8200 - 153ms/epoch - 2ms/step\n",
      "Epoch 93/100\n",
      "79/79 - 0s - loss: 0.2347 - accuracy: 0.9360 - val_loss: 0.2489 - val_accuracy: 0.8080 - 153ms/epoch - 2ms/step\n",
      "Epoch 94/100\n",
      "79/79 - 0s - loss: 0.2347 - accuracy: 0.9364 - val_loss: 0.2486 - val_accuracy: 0.8180 - 151ms/epoch - 2ms/step\n",
      "Epoch 95/100\n",
      "79/79 - 0s - loss: 0.2348 - accuracy: 0.9356 - val_loss: 0.2491 - val_accuracy: 0.8160 - 149ms/epoch - 2ms/step\n",
      "Epoch 96/100\n",
      "79/79 - 0s - loss: 0.2346 - accuracy: 0.9368 - val_loss: 0.2488 - val_accuracy: 0.8100 - 150ms/epoch - 2ms/step\n",
      "Epoch 97/100\n",
      "79/79 - 0s - loss: 0.2346 - accuracy: 0.9376 - val_loss: 0.2492 - val_accuracy: 0.8060 - 153ms/epoch - 2ms/step\n",
      "Epoch 98/100\n",
      "79/79 - 0s - loss: 0.2346 - accuracy: 0.9364 - val_loss: 0.2488 - val_accuracy: 0.8120 - 160ms/epoch - 2ms/step\n",
      "Epoch 99/100\n",
      "79/79 - 0s - loss: 0.2345 - accuracy: 0.9372 - val_loss: 0.2488 - val_accuracy: 0.8140 - 152ms/epoch - 2ms/step\n",
      "Epoch 100/100\n",
      "79/79 - 0s - loss: 0.2346 - accuracy: 0.9368 - val_loss: 0.2491 - val_accuracy: 0.8100 - 148ms/epoch - 2ms/step\n",
      "16/16 - 0s - loss: 0.2458 - accuracy: 0.8420 - 43ms/epoch - 3ms/step\n",
      "16/16 [==============================] - 0s 1ms/step\n",
      "Confusion matrix:\n",
      "[[0.96 0.   0.   0.   0.   0.   0.04 0.   0.   0.  ]\n",
      " [0.   0.98 0.   0.03 0.   0.   0.   0.   0.   0.  ]\n",
      " [0.02 0.02 0.63 0.05 0.21 0.   0.08 0.   0.   0.  ]\n",
      " [0.05 0.02 0.   0.88 0.   0.   0.02 0.   0.   0.  ]\n",
      " [0.   0.   0.07 0.1  0.74 0.   0.08 0.   0.   0.  ]\n",
      " [0.   0.   0.   0.   0.   0.94 0.   0.06 0.   0.  ]\n",
      " [0.2  0.   0.11 0.03 0.16 0.   0.55 0.   0.   0.  ]\n",
      " [0.   0.   0.   0.   0.   0.08 0.   0.84 0.   0.08]\n",
      " [0.   0.   0.   0.03 0.05 0.04 0.   0.02 0.89 0.  ]\n",
      " [0.   0.   0.   0.   0.   0.02 0.   0.02 0.   0.96]]\n",
      "Diagonal values:\n",
      "[0.96 0.98 0.63 0.88 0.74 0.94 0.55 0.84 0.89 0.96]\n"
     ]
    }
   ],
   "source": [
    "# Chuyển dữ liệu nhãn sang dạng one-hot vector.\n",
    "train_y = create_one_hot(train_y.astype(int))\n",
    "val_y = create_one_hot(val_y.astype(int))\n",
    "test_y = create_one_hot(test_y.astype(int))\n",
    "\n",
    "# Chuẩn hoá dữ liệu\n",
    "train_x, val_x, test_x = normalize(train_x, val_x, test_x)\n",
    "\n",
    "# Chọn thiết bị (cpu hoặc gpu) sẽ thực hiện quá trình huấn luyện\n",
    "device = '/cpu:0' if len(tf.config.experimental.list_physical_devices('GPU')) == 0 else '/gpu:0'\n",
    "\n",
    "with tf.device(device):\n",
    "    # Xây dựng mô hình và optimizer\n",
    "    model = SoftmaxRegressionTF(num_classes)\n",
    "    model.compile(optimizer=tf.optimizers.Adam(learning_rate), loss='binary_crossentropy',\n",
    "                  metrics=['accuracy'])\n",
    "    \n",
    "\n",
    "    # Huấn luyện mô hình\n",
    "    model.fit(train_x, train_y, batch_size=batch_size, epochs=num_epoch,\n",
    "              validation_data=(val_x, val_y), verbose=2)\n",
    "    \n",
    "    \n",
    "    # Đánh giá mô hình trên tập test set\n",
    "    scores = model.evaluate(test_x, test_y, 32, verbose=2)\n",
    "    \n",
    "    y_hat = model.predict(test_x)\n",
    "    confusion_mat = softmax_test(y_hat, test_y)\n",
    "    \n",
    "    print('Confusion matrix:')\n",
    "    print(confusion_mat)\n",
    "    print('Diagonal values:')\n",
    "    print(confusion_mat.flatten()[0::11])"
   ]
  }
 ],
 "metadata": {
  "colab": {
   "collapsed_sections": [],
   "name": "3_Softmax_Regression.ipynb",
   "provenance": []
  },
  "kernelspec": {
   "display_name": "Python 3.10.7 64-bit",
   "language": "python",
   "name": "python3"
  },
  "language_info": {
   "codemirror_mode": {
    "name": "ipython",
    "version": 3
   },
   "file_extension": ".py",
   "mimetype": "text/x-python",
   "name": "python",
   "nbconvert_exporter": "python",
   "pygments_lexer": "ipython3",
   "version": "3.10.7"
  },
  "vscode": {
   "interpreter": {
    "hash": "a42ccb73e7d9bfdf27e036f1d2b8b681e55fc0743cc5586bc2474d4a60f4b886"
   }
  }
 },
 "nbformat": 4,
 "nbformat_minor": 4
}
